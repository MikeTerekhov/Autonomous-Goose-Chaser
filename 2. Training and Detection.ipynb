{
 "cells": [
  {
   "cell_type": "markdown",
   "metadata": {
    "id": "QUANWN3rpfC9"
   },
   "source": [
    "# 0. Setup Paths"
   ]
  },
  {
   "cell_type": "code",
   "execution_count": 42,
   "metadata": {
    "id": "146BB11JpfDA"
   },
   "outputs": [],
   "source": [
    "import os"
   ]
  },
  {
   "cell_type": "code",
   "execution_count": 43,
   "metadata": {
    "id": "42hJEdo_pfDB"
   },
   "outputs": [],
   "source": [
    "# single sharp detection mobile net\n",
    "CUSTOM_MODEL_NAME = 'my_ssd_mobnet' \n",
    "# Can use different tensorflow object detection models \n",
    "PRETRAINED_MODEL_NAME = 'ssd_mobilenet_v2_fpnlite_320x320_coco17_tpu-8'\n",
    "# URL to download model from tensorflow object detection model zoo\n",
    "PRETRAINED_MODEL_URL = 'http://download.tensorflow.org/models/object_detection/tf2/20200711/ssd_mobilenet_v2_fpnlite_320x320_coco17_tpu-8.tar.gz'\n",
    "TF_RECORD_SCRIPT_NAME = 'generate_tfrecord.py'\n",
    "LABEL_MAP_NAME = 'label_map.pbtxt'"
   ]
  },
  {
   "cell_type": "code",
   "execution_count": 44,
   "metadata": {
    "id": "hbPhYVy_pfDB"
   },
   "outputs": [],
   "source": [
    "paths = {\n",
    "    'WORKSPACE_PATH': os.path.join('Tensorflow', 'workspace'),\n",
    "    'SCRIPTS_PATH': os.path.join('Tensorflow','scripts'),\n",
    "    'APIMODEL_PATH': os.path.join('Tensorflow','models'),\n",
    "    'ANNOTATION_PATH': os.path.join('Tensorflow', 'workspace','annotations'),\n",
    "    'IMAGE_PATH': os.path.join('Tensorflow', 'workspace','images'),\n",
    "    'MODEL_PATH': os.path.join('Tensorflow', 'workspace','models'),\n",
    "    'PRETRAINED_MODEL_PATH': os.path.join('Tensorflow', 'workspace','pre-trained-models'),\n",
    "    'CHECKPOINT_PATH': os.path.join('Tensorflow', 'workspace','models',CUSTOM_MODEL_NAME), \n",
    "    'OUTPUT_PATH': os.path.join('Tensorflow', 'workspace','models',CUSTOM_MODEL_NAME, 'export'), \n",
    "    'TFJS_PATH':os.path.join('Tensorflow', 'workspace','models',CUSTOM_MODEL_NAME, 'tfjsexport'), \n",
    "    'TFLITE_PATH':os.path.join('Tensorflow', 'workspace','models',CUSTOM_MODEL_NAME, 'tfliteexport'), \n",
    "    'PROTOC_PATH':os.path.join('Tensorflow','protoc')\n",
    " }"
   ]
  },
  {
   "cell_type": "code",
   "execution_count": 45,
   "metadata": {
    "id": "LwhWZMI0pfDC"
   },
   "outputs": [],
   "source": [
    "files = {\n",
    "    'PIPELINE_CONFIG':os.path.join('Tensorflow', 'workspace','models', CUSTOM_MODEL_NAME, 'pipeline.config'),\n",
    "    'TF_RECORD_SCRIPT': os.path.join(paths['SCRIPTS_PATH'], TF_RECORD_SCRIPT_NAME), \n",
    "    'LABELMAP': os.path.join(paths['ANNOTATION_PATH'], LABEL_MAP_NAME)\n",
    "}"
   ]
  },
  {
   "cell_type": "code",
   "execution_count": 46,
   "metadata": {
    "id": "HR-TfDGrpfDC"
   },
   "outputs": [],
   "source": [
    "for path in paths.values():\n",
    "    if not os.path.exists(path):\n",
    "        if os.name == 'posix':\n",
    "            !mkdir -p {path}\n",
    "        if os.name == 'nt':\n",
    "            !mkdir {path}"
   ]
  },
  {
   "cell_type": "markdown",
   "metadata": {
    "id": "OLU-rs_ipfDE"
   },
   "source": [
    "# 1. Download TF Models Pretrained Models from Tensorflow Model Zoo and Install TFOD"
   ]
  },
  {
   "cell_type": "code",
   "execution_count": 47,
   "metadata": {},
   "outputs": [],
   "source": [
    "# https://www.tensorflow.org/install/source_windows"
   ]
  },
  {
   "cell_type": "code",
   "execution_count": 48,
   "metadata": {
    "id": "K-Cmz2edpfDE",
    "scrolled": true
   },
   "outputs": [],
   "source": [
    "if os.name=='nt':\n",
    "    !pip install wget\n",
    "    import wget"
   ]
  },
  {
   "cell_type": "code",
   "execution_count": 49,
   "metadata": {
    "id": "iA1DIq5OpfDE"
   },
   "outputs": [],
   "source": [
    "if not os.path.exists(os.path.join(paths['APIMODEL_PATH'], 'research', 'object_detection')):\n",
    "    !git clone https://github.com/tensorflow/models {paths['APIMODEL_PATH']}"
   ]
  },
  {
   "cell_type": "code",
   "execution_count": 50,
   "metadata": {
    "id": "rJjMHbnDs3Tv"
   },
   "outputs": [
    {
     "name": "stdout",
     "output_type": "stream",
     "text": [
      "/bin/bash: apt-get: command not found\n",
      "Processing /Users/rogerfinnerty/Desktop/TensorFlowObjectDetection/TFODCourse/Tensorflow/models/research\n",
      "  Preparing metadata (setup.py) ... \u001b[?25ldone\n",
      "\u001b[?25hRequirement already satisfied: avro-python3 in /Users/rogerfinnerty/Desktop/TensorFlowObjectDetection/TFODCourse/tfod/lib/python3.9/site-packages (from object-detection==0.1) (1.10.2)\n",
      "Requirement already satisfied: apache-beam in /Users/rogerfinnerty/Desktop/TensorFlowObjectDetection/TFODCourse/tfod/lib/python3.9/site-packages (from object-detection==0.1) (2.43.0)\n",
      "Requirement already satisfied: pillow in /Users/rogerfinnerty/Desktop/TensorFlowObjectDetection/TFODCourse/tfod/lib/python3.9/site-packages (from object-detection==0.1) (9.4.0)\n",
      "Requirement already satisfied: lxml in /Users/rogerfinnerty/Desktop/TensorFlowObjectDetection/TFODCourse/tfod/lib/python3.9/site-packages (from object-detection==0.1) (4.9.2)\n",
      "Requirement already satisfied: matplotlib in /Users/rogerfinnerty/Desktop/TensorFlowObjectDetection/TFODCourse/tfod/lib/python3.9/site-packages (from object-detection==0.1) (3.2.0)\n",
      "Requirement already satisfied: Cython in /Users/rogerfinnerty/Desktop/TensorFlowObjectDetection/TFODCourse/tfod/lib/python3.9/site-packages (from object-detection==0.1) (0.29.33)\n",
      "Requirement already satisfied: contextlib2 in /Users/rogerfinnerty/Desktop/TensorFlowObjectDetection/TFODCourse/tfod/lib/python3.9/site-packages (from object-detection==0.1) (21.6.0)\n",
      "Requirement already satisfied: tf-slim in /Users/rogerfinnerty/Desktop/TensorFlowObjectDetection/TFODCourse/tfod/lib/python3.9/site-packages (from object-detection==0.1) (1.1.0)\n",
      "Requirement already satisfied: six in /Users/rogerfinnerty/Desktop/TensorFlowObjectDetection/TFODCourse/tfod/lib/python3.9/site-packages (from object-detection==0.1) (1.16.0)\n",
      "Requirement already satisfied: pycocotools in /Users/rogerfinnerty/Desktop/TensorFlowObjectDetection/TFODCourse/tfod/lib/python3.9/site-packages (from object-detection==0.1) (2.0.6)\n",
      "Requirement already satisfied: lvis in /Users/rogerfinnerty/Desktop/TensorFlowObjectDetection/TFODCourse/tfod/lib/python3.9/site-packages (from object-detection==0.1) (0.5.3)\n",
      "Requirement already satisfied: scipy in /Users/rogerfinnerty/Desktop/TensorFlowObjectDetection/TFODCourse/tfod/lib/python3.9/site-packages (from object-detection==0.1) (1.10.0)\n",
      "Requirement already satisfied: pandas in /Users/rogerfinnerty/Desktop/TensorFlowObjectDetection/TFODCourse/tfod/lib/python3.9/site-packages (from object-detection==0.1) (1.5.2)\n",
      "Requirement already satisfied: tf-models-official>=2.5.1 in /Users/rogerfinnerty/Desktop/TensorFlowObjectDetection/TFODCourse/tfod/lib/python3.9/site-packages (from object-detection==0.1) (2.11.2)\n",
      "Requirement already satisfied: tensorflow_io in /Users/rogerfinnerty/Desktop/TensorFlowObjectDetection/TFODCourse/tfod/lib/python3.9/site-packages (from object-detection==0.1) (0.29.0)\n",
      "Requirement already satisfied: keras in /Users/rogerfinnerty/Desktop/TensorFlowObjectDetection/TFODCourse/tfod/lib/python3.9/site-packages (from object-detection==0.1) (2.11.0)\n",
      "Requirement already satisfied: pyparsing==2.4.7 in /Users/rogerfinnerty/Desktop/TensorFlowObjectDetection/TFODCourse/tfod/lib/python3.9/site-packages (from object-detection==0.1) (2.4.7)\n",
      "Requirement already satisfied: sacrebleu<=2.2.0 in /Users/rogerfinnerty/Desktop/TensorFlowObjectDetection/TFODCourse/tfod/lib/python3.9/site-packages (from object-detection==0.1) (2.2.0)\n",
      "Requirement already satisfied: regex in /Users/rogerfinnerty/Desktop/TensorFlowObjectDetection/TFODCourse/tfod/lib/python3.9/site-packages (from sacrebleu<=2.2.0->object-detection==0.1) (2022.10.31)\n",
      "Requirement already satisfied: portalocker in /Users/rogerfinnerty/Desktop/TensorFlowObjectDetection/TFODCourse/tfod/lib/python3.9/site-packages (from sacrebleu<=2.2.0->object-detection==0.1) (2.6.0)\n",
      "Requirement already satisfied: colorama in /Users/rogerfinnerty/Desktop/TensorFlowObjectDetection/TFODCourse/tfod/lib/python3.9/site-packages (from sacrebleu<=2.2.0->object-detection==0.1) (0.4.6)\n",
      "Requirement already satisfied: numpy>=1.17 in /Users/rogerfinnerty/Desktop/TensorFlowObjectDetection/TFODCourse/tfod/lib/python3.9/site-packages (from sacrebleu<=2.2.0->object-detection==0.1) (1.22.4)\n",
      "Requirement already satisfied: tabulate>=0.8.9 in /Users/rogerfinnerty/Desktop/TensorFlowObjectDetection/TFODCourse/tfod/lib/python3.9/site-packages (from sacrebleu<=2.2.0->object-detection==0.1) (0.9.0)\n",
      "Requirement already satisfied: tensorflow-hub>=0.6.0 in /Users/rogerfinnerty/Desktop/TensorFlowObjectDetection/TFODCourse/tfod/lib/python3.9/site-packages (from tf-models-official>=2.5.1->object-detection==0.1) (0.12.0)\n",
      "Requirement already satisfied: tensorflow-datasets in /Users/rogerfinnerty/Desktop/TensorFlowObjectDetection/TFODCourse/tfod/lib/python3.9/site-packages (from tf-models-official>=2.5.1->object-detection==0.1) (4.8.1)\n",
      "Requirement already satisfied: tensorflow-addons in /Users/rogerfinnerty/Desktop/TensorFlowObjectDetection/TFODCourse/tfod/lib/python3.9/site-packages (from tf-models-official>=2.5.1->object-detection==0.1) (0.19.0)\n",
      "Requirement already satisfied: immutabledict in /Users/rogerfinnerty/Desktop/TensorFlowObjectDetection/TFODCourse/tfod/lib/python3.9/site-packages (from tf-models-official>=2.5.1->object-detection==0.1) (2.2.3)\n",
      "Requirement already satisfied: tensorflow-model-optimization>=0.4.1 in /Users/rogerfinnerty/Desktop/TensorFlowObjectDetection/TFODCourse/tfod/lib/python3.9/site-packages (from tf-models-official>=2.5.1->object-detection==0.1) (0.7.3)\n",
      "Requirement already satisfied: kaggle>=1.3.9 in /Users/rogerfinnerty/Desktop/TensorFlowObjectDetection/TFODCourse/tfod/lib/python3.9/site-packages (from tf-models-official>=2.5.1->object-detection==0.1) (1.5.12)\n",
      "Requirement already satisfied: tensorflow~=2.11.0 in /Users/rogerfinnerty/Desktop/TensorFlowObjectDetection/TFODCourse/tfod/lib/python3.9/site-packages (from tf-models-official>=2.5.1->object-detection==0.1) (2.11.0)\n",
      "Requirement already satisfied: sentencepiece in /Users/rogerfinnerty/Desktop/TensorFlowObjectDetection/TFODCourse/tfod/lib/python3.9/site-packages (from tf-models-official>=2.5.1->object-detection==0.1) (0.1.97)\n",
      "Requirement already satisfied: oauth2client in /Users/rogerfinnerty/Desktop/TensorFlowObjectDetection/TFODCourse/tfod/lib/python3.9/site-packages (from tf-models-official>=2.5.1->object-detection==0.1) (4.1.3)\n",
      "Requirement already satisfied: py-cpuinfo>=3.3.0 in /Users/rogerfinnerty/Desktop/TensorFlowObjectDetection/TFODCourse/tfod/lib/python3.9/site-packages (from tf-models-official>=2.5.1->object-detection==0.1) (9.0.0)\n",
      "Requirement already satisfied: psutil>=5.4.3 in /Users/rogerfinnerty/Desktop/TensorFlowObjectDetection/TFODCourse/tfod/lib/python3.9/site-packages (from tf-models-official>=2.5.1->object-detection==0.1) (5.9.4)\n",
      "Requirement already satisfied: pyyaml<6.0,>=5.1 in /Users/rogerfinnerty/Desktop/TensorFlowObjectDetection/TFODCourse/tfod/lib/python3.9/site-packages (from tf-models-official>=2.5.1->object-detection==0.1) (5.4.1)\n",
      "Requirement already satisfied: opencv-python-headless in /Users/rogerfinnerty/Desktop/TensorFlowObjectDetection/TFODCourse/tfod/lib/python3.9/site-packages (from tf-models-official>=2.5.1->object-detection==0.1) (4.7.0.68)\n",
      "Requirement already satisfied: seqeval in /Users/rogerfinnerty/Desktop/TensorFlowObjectDetection/TFODCourse/tfod/lib/python3.9/site-packages (from tf-models-official>=2.5.1->object-detection==0.1) (1.2.2)\n",
      "Requirement already satisfied: gin-config in /Users/rogerfinnerty/Desktop/TensorFlowObjectDetection/TFODCourse/tfod/lib/python3.9/site-packages (from tf-models-official>=2.5.1->object-detection==0.1) (0.5.0)\n",
      "Requirement already satisfied: google-api-python-client>=1.6.7 in /Users/rogerfinnerty/Desktop/TensorFlowObjectDetection/TFODCourse/tfod/lib/python3.9/site-packages (from tf-models-official>=2.5.1->object-detection==0.1) (2.72.0)\n",
      "Requirement already satisfied: tensorflow-text~=2.11.0 in /Users/rogerfinnerty/Desktop/TensorFlowObjectDetection/TFODCourse/tfod/lib/python3.9/site-packages (from tf-models-official>=2.5.1->object-detection==0.1) (2.11.0)\n",
      "Requirement already satisfied: pytz>=2020.1 in /Users/rogerfinnerty/Desktop/TensorFlowObjectDetection/TFODCourse/tfod/lib/python3.9/site-packages (from pandas->object-detection==0.1) (2022.7)\n",
      "Requirement already satisfied: python-dateutil>=2.8.1 in /Users/rogerfinnerty/Desktop/TensorFlowObjectDetection/TFODCourse/tfod/lib/python3.9/site-packages (from pandas->object-detection==0.1) (2.8.2)\n",
      "Requirement already satisfied: absl-py>=0.2.2 in /Users/rogerfinnerty/Desktop/TensorFlowObjectDetection/TFODCourse/tfod/lib/python3.9/site-packages (from tf-slim->object-detection==0.1) (1.4.0)\n"
     ]
    },
    {
     "name": "stdout",
     "output_type": "stream",
     "text": [
      "Requirement already satisfied: zstandard<1,>=0.18.0 in /Users/rogerfinnerty/Desktop/TensorFlowObjectDetection/TFODCourse/tfod/lib/python3.9/site-packages (from apache-beam->object-detection==0.1) (0.19.0)\n",
      "Requirement already satisfied: hdfs<3.0.0,>=2.1.0 in /Users/rogerfinnerty/Desktop/TensorFlowObjectDetection/TFODCourse/tfod/lib/python3.9/site-packages (from apache-beam->object-detection==0.1) (2.7.0)\n",
      "Requirement already satisfied: pymongo<4.0.0,>=3.8.0 in /Users/rogerfinnerty/Desktop/TensorFlowObjectDetection/TFODCourse/tfod/lib/python3.9/site-packages (from apache-beam->object-detection==0.1) (3.13.0)\n",
      "Requirement already satisfied: objsize<0.6.0,>=0.5.2 in /Users/rogerfinnerty/Desktop/TensorFlowObjectDetection/TFODCourse/tfod/lib/python3.9/site-packages (from apache-beam->object-detection==0.1) (0.5.2)\n",
      "Requirement already satisfied: httplib2<0.21.0,>=0.8 in /Users/rogerfinnerty/Desktop/TensorFlowObjectDetection/TFODCourse/tfod/lib/python3.9/site-packages (from apache-beam->object-detection==0.1) (0.20.4)\n",
      "Requirement already satisfied: crcmod<2.0,>=1.7 in /Users/rogerfinnerty/Desktop/TensorFlowObjectDetection/TFODCourse/tfod/lib/python3.9/site-packages (from apache-beam->object-detection==0.1) (1.7)\n",
      "Requirement already satisfied: dill<0.3.2,>=0.3.1.1 in /Users/rogerfinnerty/Desktop/TensorFlowObjectDetection/TFODCourse/tfod/lib/python3.9/site-packages (from apache-beam->object-detection==0.1) (0.3.1.1)\n",
      "Requirement already satisfied: pyarrow<10.0.0,>=0.15.1 in /Users/rogerfinnerty/Desktop/TensorFlowObjectDetection/TFODCourse/tfod/lib/python3.9/site-packages (from apache-beam->object-detection==0.1) (9.0.0)\n",
      "Requirement already satisfied: cloudpickle~=2.2.0 in /Users/rogerfinnerty/Desktop/TensorFlowObjectDetection/TFODCourse/tfod/lib/python3.9/site-packages (from apache-beam->object-detection==0.1) (2.2.0)\n",
      "Requirement already satisfied: orjson<4.0 in /Users/rogerfinnerty/Desktop/TensorFlowObjectDetection/TFODCourse/tfod/lib/python3.9/site-packages (from apache-beam->object-detection==0.1) (3.8.5)\n",
      "Requirement already satisfied: requests<3.0.0,>=2.24.0 in /Users/rogerfinnerty/Desktop/TensorFlowObjectDetection/TFODCourse/tfod/lib/python3.9/site-packages (from apache-beam->object-detection==0.1) (2.28.2)\n",
      "Requirement already satisfied: fastavro<2,>=0.23.6 in /Users/rogerfinnerty/Desktop/TensorFlowObjectDetection/TFODCourse/tfod/lib/python3.9/site-packages (from apache-beam->object-detection==0.1) (1.7.0)\n",
      "Requirement already satisfied: proto-plus<2,>=1.7.1 in /Users/rogerfinnerty/Desktop/TensorFlowObjectDetection/TFODCourse/tfod/lib/python3.9/site-packages (from apache-beam->object-detection==0.1) (1.22.2)\n",
      "Requirement already satisfied: grpcio!=1.48.0,<2,>=1.33.1 in /Users/rogerfinnerty/Desktop/TensorFlowObjectDetection/TFODCourse/tfod/lib/python3.9/site-packages (from apache-beam->object-detection==0.1) (1.51.1)\n",
      "Requirement already satisfied: typing-extensions>=3.7.0 in /Users/rogerfinnerty/Desktop/TensorFlowObjectDetection/TFODCourse/tfod/lib/python3.9/site-packages (from apache-beam->object-detection==0.1) (4.4.0)\n",
      "Requirement already satisfied: fasteners<1.0,>=0.3 in /Users/rogerfinnerty/Desktop/TensorFlowObjectDetection/TFODCourse/tfod/lib/python3.9/site-packages (from apache-beam->object-detection==0.1) (0.18)\n",
      "Requirement already satisfied: pydot<2,>=1.2.0 in /Users/rogerfinnerty/Desktop/TensorFlowObjectDetection/TFODCourse/tfod/lib/python3.9/site-packages (from apache-beam->object-detection==0.1) (1.4.2)\n",
      "Requirement already satisfied: protobuf<4,>3.12.2 in /Users/rogerfinnerty/Desktop/TensorFlowObjectDetection/TFODCourse/tfod/lib/python3.9/site-packages (from apache-beam->object-detection==0.1) (3.19.6)\n",
      "Requirement already satisfied: cycler>=0.10.0 in /Users/rogerfinnerty/Desktop/TensorFlowObjectDetection/TFODCourse/tfod/lib/python3.9/site-packages (from lvis->object-detection==0.1) (0.11.0)\n",
      "Requirement already satisfied: opencv-python>=4.1.0.25 in /Users/rogerfinnerty/Desktop/TensorFlowObjectDetection/TFODCourse/tfod/lib/python3.9/site-packages (from lvis->object-detection==0.1) (4.7.0.68)\n",
      "Requirement already satisfied: kiwisolver>=1.1.0 in /Users/rogerfinnerty/Desktop/TensorFlowObjectDetection/TFODCourse/tfod/lib/python3.9/site-packages (from lvis->object-detection==0.1) (1.4.4)\n",
      "Requirement already satisfied: tensorflow-io-gcs-filesystem==0.29.0 in /Users/rogerfinnerty/Desktop/TensorFlowObjectDetection/TFODCourse/tfod/lib/python3.9/site-packages (from tensorflow_io->object-detection==0.1) (0.29.0)\n",
      "Requirement already satisfied: google-auth-httplib2>=0.1.0 in /Users/rogerfinnerty/Desktop/TensorFlowObjectDetection/TFODCourse/tfod/lib/python3.9/site-packages (from google-api-python-client>=1.6.7->tf-models-official>=2.5.1->object-detection==0.1) (0.1.0)\n",
      "Requirement already satisfied: google-auth<3.0.0dev,>=1.19.0 in /Users/rogerfinnerty/Desktop/TensorFlowObjectDetection/TFODCourse/tfod/lib/python3.9/site-packages (from google-api-python-client>=1.6.7->tf-models-official>=2.5.1->object-detection==0.1) (2.16.0)\n",
      "Requirement already satisfied: google-api-core!=2.0.*,!=2.1.*,!=2.2.*,!=2.3.0,<3.0.0dev,>=1.31.5 in /Users/rogerfinnerty/Desktop/TensorFlowObjectDetection/TFODCourse/tfod/lib/python3.9/site-packages (from google-api-python-client>=1.6.7->tf-models-official>=2.5.1->object-detection==0.1) (2.11.0)\n",
      "Requirement already satisfied: uritemplate<5,>=3.0.1 in /Users/rogerfinnerty/Desktop/TensorFlowObjectDetection/TFODCourse/tfod/lib/python3.9/site-packages (from google-api-python-client>=1.6.7->tf-models-official>=2.5.1->object-detection==0.1) (4.1.1)\n",
      "Requirement already satisfied: docopt in /Users/rogerfinnerty/Desktop/TensorFlowObjectDetection/TFODCourse/tfod/lib/python3.9/site-packages (from hdfs<3.0.0,>=2.1.0->apache-beam->object-detection==0.1) (0.6.2)\n",
      "Requirement already satisfied: certifi in /Users/rogerfinnerty/Desktop/TensorFlowObjectDetection/TFODCourse/tfod/lib/python3.9/site-packages (from kaggle>=1.3.9->tf-models-official>=2.5.1->object-detection==0.1) (2022.12.7)\n",
      "Requirement already satisfied: tqdm in /Users/rogerfinnerty/Desktop/TensorFlowObjectDetection/TFODCourse/tfod/lib/python3.9/site-packages (from kaggle>=1.3.9->tf-models-official>=2.5.1->object-detection==0.1) (4.64.1)\n",
      "Requirement already satisfied: python-slugify in /Users/rogerfinnerty/Desktop/TensorFlowObjectDetection/TFODCourse/tfod/lib/python3.9/site-packages (from kaggle>=1.3.9->tf-models-official>=2.5.1->object-detection==0.1) (7.0.0)\n",
      "Requirement already satisfied: urllib3 in /Users/rogerfinnerty/Desktop/TensorFlowObjectDetection/TFODCourse/tfod/lib/python3.9/site-packages (from kaggle>=1.3.9->tf-models-official>=2.5.1->object-detection==0.1) (1.26.14)\n",
      "Requirement already satisfied: charset-normalizer<4,>=2 in /Users/rogerfinnerty/Desktop/TensorFlowObjectDetection/TFODCourse/tfod/lib/python3.9/site-packages (from requests<3.0.0,>=2.24.0->apache-beam->object-detection==0.1) (3.0.1)\n",
      "Requirement already satisfied: idna<4,>=2.5 in /Users/rogerfinnerty/Desktop/TensorFlowObjectDetection/TFODCourse/tfod/lib/python3.9/site-packages (from requests<3.0.0,>=2.24.0->apache-beam->object-detection==0.1) (3.4)\n",
      "Requirement already satisfied: flatbuffers>=2.0 in /Users/rogerfinnerty/Desktop/TensorFlowObjectDetection/TFODCourse/tfod/lib/python3.9/site-packages (from tensorflow~=2.11.0->tf-models-official>=2.5.1->object-detection==0.1) (23.1.4)\n",
      "Requirement already satisfied: h5py>=2.9.0 in /Users/rogerfinnerty/Desktop/TensorFlowObjectDetection/TFODCourse/tfod/lib/python3.9/site-packages (from tensorflow~=2.11.0->tf-models-official>=2.5.1->object-detection==0.1) (3.7.0)\n",
      "Requirement already satisfied: packaging in /Users/rogerfinnerty/Desktop/TensorFlowObjectDetection/TFODCourse/tfod/lib/python3.9/site-packages (from tensorflow~=2.11.0->tf-models-official>=2.5.1->object-detection==0.1) (23.0)\n",
      "Requirement already satisfied: opt-einsum>=2.3.2 in /Users/rogerfinnerty/Desktop/TensorFlowObjectDetection/TFODCourse/tfod/lib/python3.9/site-packages (from tensorflow~=2.11.0->tf-models-official>=2.5.1->object-detection==0.1) (3.3.0)\n",
      "Requirement already satisfied: google-pasta>=0.1.1 in /Users/rogerfinnerty/Desktop/TensorFlowObjectDetection/TFODCourse/tfod/lib/python3.9/site-packages (from tensorflow~=2.11.0->tf-models-official>=2.5.1->object-detection==0.1) (0.2.0)\n",
      "Requirement already satisfied: libclang>=13.0.0 in /Users/rogerfinnerty/Desktop/TensorFlowObjectDetection/TFODCourse/tfod/lib/python3.9/site-packages (from tensorflow~=2.11.0->tf-models-official>=2.5.1->object-detection==0.1) (15.0.6.1)\n",
      "Requirement already satisfied: tensorflow-estimator<2.12,>=2.11.0 in /Users/rogerfinnerty/Desktop/TensorFlowObjectDetection/TFODCourse/tfod/lib/python3.9/site-packages (from tensorflow~=2.11.0->tf-models-official>=2.5.1->object-detection==0.1) (2.11.0)\n",
      "Requirement already satisfied: wrapt>=1.11.0 in /Users/rogerfinnerty/Desktop/TensorFlowObjectDetection/TFODCourse/tfod/lib/python3.9/site-packages (from tensorflow~=2.11.0->tf-models-official>=2.5.1->object-detection==0.1) (1.14.1)\n",
      "Requirement already satisfied: astunparse>=1.6.0 in /Users/rogerfinnerty/Desktop/TensorFlowObjectDetection/TFODCourse/tfod/lib/python3.9/site-packages (from tensorflow~=2.11.0->tf-models-official>=2.5.1->object-detection==0.1) (1.6.3)\n",
      "Requirement already satisfied: tensorboard<2.12,>=2.11 in /Users/rogerfinnerty/Desktop/TensorFlowObjectDetection/TFODCourse/tfod/lib/python3.9/site-packages (from tensorflow~=2.11.0->tf-models-official>=2.5.1->object-detection==0.1) (2.11.1)\n",
      "Requirement already satisfied: gast<=0.4.0,>=0.2.1 in /Users/rogerfinnerty/Desktop/TensorFlowObjectDetection/TFODCourse/tfod/lib/python3.9/site-packages (from tensorflow~=2.11.0->tf-models-official>=2.5.1->object-detection==0.1) (0.4.0)\n",
      "Requirement already satisfied: setuptools in /Users/rogerfinnerty/Desktop/TensorFlowObjectDetection/TFODCourse/tfod/lib/python3.9/site-packages (from tensorflow~=2.11.0->tf-models-official>=2.5.1->object-detection==0.1) (58.1.0)\n",
      "Requirement already satisfied: termcolor>=1.1.0 in /Users/rogerfinnerty/Desktop/TensorFlowObjectDetection/TFODCourse/tfod/lib/python3.9/site-packages (from tensorflow~=2.11.0->tf-models-official>=2.5.1->object-detection==0.1) (2.2.0)\n",
      "Requirement already satisfied: dm-tree~=0.1.1 in /Users/rogerfinnerty/Desktop/TensorFlowObjectDetection/TFODCourse/tfod/lib/python3.9/site-packages (from tensorflow-model-optimization>=0.4.1->tf-models-official>=2.5.1->object-detection==0.1) (0.1.8)\n"
     ]
    },
    {
     "name": "stdout",
     "output_type": "stream",
     "text": [
      "Requirement already satisfied: pyasn1>=0.1.7 in /Users/rogerfinnerty/Desktop/TensorFlowObjectDetection/TFODCourse/tfod/lib/python3.9/site-packages (from oauth2client->tf-models-official>=2.5.1->object-detection==0.1) (0.4.8)\n",
      "Requirement already satisfied: pyasn1-modules>=0.0.5 in /Users/rogerfinnerty/Desktop/TensorFlowObjectDetection/TFODCourse/tfod/lib/python3.9/site-packages (from oauth2client->tf-models-official>=2.5.1->object-detection==0.1) (0.2.8)\n",
      "Requirement already satisfied: rsa>=3.1.4 in /Users/rogerfinnerty/Desktop/TensorFlowObjectDetection/TFODCourse/tfod/lib/python3.9/site-packages (from oauth2client->tf-models-official>=2.5.1->object-detection==0.1) (4.9)\n",
      "Requirement already satisfied: scikit-learn>=0.21.3 in /Users/rogerfinnerty/Desktop/TensorFlowObjectDetection/TFODCourse/tfod/lib/python3.9/site-packages (from seqeval->tf-models-official>=2.5.1->object-detection==0.1) (1.2.0)\n",
      "Requirement already satisfied: typeguard>=2.7 in /Users/rogerfinnerty/Desktop/TensorFlowObjectDetection/TFODCourse/tfod/lib/python3.9/site-packages (from tensorflow-addons->tf-models-official>=2.5.1->object-detection==0.1) (2.13.3)\n",
      "Requirement already satisfied: etils[enp,epath]>=0.9.0 in /Users/rogerfinnerty/Desktop/TensorFlowObjectDetection/TFODCourse/tfod/lib/python3.9/site-packages (from tensorflow-datasets->tf-models-official>=2.5.1->object-detection==0.1) (1.0.0)\n",
      "Requirement already satisfied: click in /Users/rogerfinnerty/Desktop/TensorFlowObjectDetection/TFODCourse/tfod/lib/python3.9/site-packages (from tensorflow-datasets->tf-models-official>=2.5.1->object-detection==0.1) (8.1.3)\n",
      "Requirement already satisfied: toml in /Users/rogerfinnerty/Desktop/TensorFlowObjectDetection/TFODCourse/tfod/lib/python3.9/site-packages (from tensorflow-datasets->tf-models-official>=2.5.1->object-detection==0.1) (0.10.2)\n",
      "Requirement already satisfied: tensorflow-metadata in /Users/rogerfinnerty/Desktop/TensorFlowObjectDetection/TFODCourse/tfod/lib/python3.9/site-packages (from tensorflow-datasets->tf-models-official>=2.5.1->object-detection==0.1) (1.12.0)\n",
      "Requirement already satisfied: promise in /Users/rogerfinnerty/Desktop/TensorFlowObjectDetection/TFODCourse/tfod/lib/python3.9/site-packages (from tensorflow-datasets->tf-models-official>=2.5.1->object-detection==0.1) (2.3)\n",
      "Requirement already satisfied: wheel<1.0,>=0.23.0 in /Users/rogerfinnerty/Desktop/TensorFlowObjectDetection/TFODCourse/tfod/lib/python3.9/site-packages (from astunparse>=1.6.0->tensorflow~=2.11.0->tf-models-official>=2.5.1->object-detection==0.1) (0.38.4)\n",
      "Requirement already satisfied: importlib_resources in /Users/rogerfinnerty/Desktop/TensorFlowObjectDetection/TFODCourse/tfod/lib/python3.9/site-packages (from etils[enp,epath]>=0.9.0->tensorflow-datasets->tf-models-official>=2.5.1->object-detection==0.1) (5.10.2)\n",
      "Requirement already satisfied: zipp in /Users/rogerfinnerty/Desktop/TensorFlowObjectDetection/TFODCourse/tfod/lib/python3.9/site-packages (from etils[enp,epath]>=0.9.0->tensorflow-datasets->tf-models-official>=2.5.1->object-detection==0.1) (3.11.0)\n",
      "Requirement already satisfied: googleapis-common-protos<2.0dev,>=1.56.2 in /Users/rogerfinnerty/Desktop/TensorFlowObjectDetection/TFODCourse/tfod/lib/python3.9/site-packages (from google-api-core!=2.0.*,!=2.1.*,!=2.2.*,!=2.3.0,<3.0.0dev,>=1.31.5->google-api-python-client>=1.6.7->tf-models-official>=2.5.1->object-detection==0.1) (1.58.0)\n",
      "Requirement already satisfied: cachetools<6.0,>=2.0.0 in /Users/rogerfinnerty/Desktop/TensorFlowObjectDetection/TFODCourse/tfod/lib/python3.9/site-packages (from google-auth<3.0.0dev,>=1.19.0->google-api-python-client>=1.6.7->tf-models-official>=2.5.1->object-detection==0.1) (5.2.1)\n",
      "Requirement already satisfied: threadpoolctl>=2.0.0 in /Users/rogerfinnerty/Desktop/TensorFlowObjectDetection/TFODCourse/tfod/lib/python3.9/site-packages (from scikit-learn>=0.21.3->seqeval->tf-models-official>=2.5.1->object-detection==0.1) (3.1.0)\n",
      "Requirement already satisfied: joblib>=1.1.1 in /Users/rogerfinnerty/Desktop/TensorFlowObjectDetection/TFODCourse/tfod/lib/python3.9/site-packages (from scikit-learn>=0.21.3->seqeval->tf-models-official>=2.5.1->object-detection==0.1) (1.2.0)\n",
      "Requirement already satisfied: google-auth-oauthlib<0.5,>=0.4.1 in /Users/rogerfinnerty/Desktop/TensorFlowObjectDetection/TFODCourse/tfod/lib/python3.9/site-packages (from tensorboard<2.12,>=2.11->tensorflow~=2.11.0->tf-models-official>=2.5.1->object-detection==0.1) (0.4.6)\n",
      "Requirement already satisfied: tensorboard-plugin-wit>=1.6.0 in /Users/rogerfinnerty/Desktop/TensorFlowObjectDetection/TFODCourse/tfod/lib/python3.9/site-packages (from tensorboard<2.12,>=2.11->tensorflow~=2.11.0->tf-models-official>=2.5.1->object-detection==0.1) (1.8.1)\n",
      "Requirement already satisfied: werkzeug>=1.0.1 in /Users/rogerfinnerty/Desktop/TensorFlowObjectDetection/TFODCourse/tfod/lib/python3.9/site-packages (from tensorboard<2.12,>=2.11->tensorflow~=2.11.0->tf-models-official>=2.5.1->object-detection==0.1) (2.2.2)\n",
      "Requirement already satisfied: markdown>=2.6.8 in /Users/rogerfinnerty/Desktop/TensorFlowObjectDetection/TFODCourse/tfod/lib/python3.9/site-packages (from tensorboard<2.12,>=2.11->tensorflow~=2.11.0->tf-models-official>=2.5.1->object-detection==0.1) (3.4.1)\n",
      "Requirement already satisfied: tensorboard-data-server<0.7.0,>=0.6.0 in /Users/rogerfinnerty/Desktop/TensorFlowObjectDetection/TFODCourse/tfod/lib/python3.9/site-packages (from tensorboard<2.12,>=2.11->tensorflow~=2.11.0->tf-models-official>=2.5.1->object-detection==0.1) (0.6.1)\n",
      "Requirement already satisfied: text-unidecode>=1.3 in /Users/rogerfinnerty/Desktop/TensorFlowObjectDetection/TFODCourse/tfod/lib/python3.9/site-packages (from python-slugify->kaggle>=1.3.9->tf-models-official>=2.5.1->object-detection==0.1) (1.3)\n",
      "Requirement already satisfied: requests-oauthlib>=0.7.0 in /Users/rogerfinnerty/Desktop/TensorFlowObjectDetection/TFODCourse/tfod/lib/python3.9/site-packages (from google-auth-oauthlib<0.5,>=0.4.1->tensorboard<2.12,>=2.11->tensorflow~=2.11.0->tf-models-official>=2.5.1->object-detection==0.1) (1.3.1)\n",
      "Requirement already satisfied: importlib-metadata>=4.4 in /Users/rogerfinnerty/Desktop/TensorFlowObjectDetection/TFODCourse/tfod/lib/python3.9/site-packages (from markdown>=2.6.8->tensorboard<2.12,>=2.11->tensorflow~=2.11.0->tf-models-official>=2.5.1->object-detection==0.1) (6.0.0)\n",
      "Requirement already satisfied: MarkupSafe>=2.1.1 in /Users/rogerfinnerty/Desktop/TensorFlowObjectDetection/TFODCourse/tfod/lib/python3.9/site-packages (from werkzeug>=1.0.1->tensorboard<2.12,>=2.11->tensorflow~=2.11.0->tf-models-official>=2.5.1->object-detection==0.1) (2.1.1)\n",
      "Requirement already satisfied: oauthlib>=3.0.0 in /Users/rogerfinnerty/Desktop/TensorFlowObjectDetection/TFODCourse/tfod/lib/python3.9/site-packages (from requests-oauthlib>=0.7.0->google-auth-oauthlib<0.5,>=0.4.1->tensorboard<2.12,>=2.11->tensorflow~=2.11.0->tf-models-official>=2.5.1->object-detection==0.1) (3.2.2)\n",
      "Building wheels for collected packages: object-detection\n",
      "  Building wheel for object-detection (setup.py) ... \u001b[?25ldone\n",
      "\u001b[?25h  Created wheel for object-detection: filename=object_detection-0.1-py3-none-any.whl size=1664584 sha256=d9661057c6ac3797a2298a49830f349257fe38145166f7bb09c44d1e9c690003\n",
      "  Stored in directory: /private/var/folders/1x/rsgf1h4x1q17nwf4j6kxjd5m0000gn/T/pip-ephem-wheel-cache-6cqw_5lh/wheels/15/f6/1d/be61ec86480ea1604b82dbf18d5a2ba629b18803e2be2c33e5\n",
      "Successfully built object-detection\n",
      "Installing collected packages: object-detection\n",
      "  Attempting uninstall: object-detection\n",
      "    Found existing installation: object-detection 0.1\n",
      "    Uninstalling object-detection-0.1:\n",
      "      Successfully uninstalled object-detection-0.1\n",
      "Successfully installed object-detection-0.1\n"
     ]
    }
   ],
   "source": [
    "# Install Tensorflow Object Detection \n",
    "# protoc = protocol buffers \n",
    "if os.name=='posix':  \n",
    "    !apt-get install protobuf-compiler\n",
    "    !cd Tensorflow/models/research && protoc object_detection/protos/*.proto --python_out=. && cp object_detection/packages/tf2/setup.py . && python -m pip install . \n",
    "    \n",
    "if os.name=='nt':\n",
    "    url=\"https://github.com/protocolbuffers/protobuf/releases/download/v3.15.6/protoc-3.15.6-win64.zip\"\n",
    "    wget.download(url)\n",
    "    !move protoc-3.15.6-win64.zip {paths['PROTOC_PATH']}\n",
    "    !cd {paths['PROTOC_PATH']} && tar -xf protoc-3.15.6-win64.zip\n",
    "    os.environ['PATH'] += os.pathsep + os.path.abspath(os.path.join(paths['PROTOC_PATH'], 'bin'))   \n",
    "    !cd Tensorflow/models/research && protoc object_detection/protos/*.proto --python_out=. && copy object_detection\\\\packages\\\\tf2\\\\setup.py setup.py && python setup.py build && python setup.py install\n",
    "    !cd Tensorflow/models/research/slim && pip install -e . "
   ]
  },
  {
   "cell_type": "code",
   "execution_count": 51,
   "metadata": {
    "scrolled": true
   },
   "outputs": [
    {
     "name": "stdout",
     "output_type": "stream",
     "text": [
      "2023-01-18 16:20:18.052339: I tensorflow/core/platform/cpu_feature_guard.cc:193] This TensorFlow binary is optimized with oneAPI Deep Neural Network Library (oneDNN) to use the following CPU instructions in performance-critical operations:  AVX2 FMA\n",
      "To enable them in other operations, rebuild TensorFlow with the appropriate compiler flags.\n",
      "Traceback (most recent call last):\n",
      "  File \"/Users/rogerfinnerty/Desktop/TensorFlowObjectDetection/TFODCourse/Tensorflow/models/research/object_detection/builders/model_builder_tf2_test.py\", line 21, in <module>\n",
      "    import tensorflow.compat.v1 as tf\n",
      "  File \"/Users/rogerfinnerty/Desktop/TensorFlowObjectDetection/TFODCourse/tfod/lib/python3.9/site-packages/tensorflow/__init__.py\", line 37, in <module>\n",
      "    from tensorflow.python.tools import module_util as _module_util\n",
      "  File \"/Users/rogerfinnerty/Desktop/TensorFlowObjectDetection/TFODCourse/tfod/lib/python3.9/site-packages/tensorflow/python/__init__.py\", line 37, in <module>\n",
      "    from tensorflow.python.eager import context\n",
      "  File \"/Users/rogerfinnerty/Desktop/TensorFlowObjectDetection/TFODCourse/tfod/lib/python3.9/site-packages/tensorflow/python/eager/context.py\", line 28, in <module>\n",
      "    from tensorflow.core.framework import function_pb2\n",
      "  File \"/Users/rogerfinnerty/Desktop/TensorFlowObjectDetection/TFODCourse/tfod/lib/python3.9/site-packages/tensorflow/core/framework/function_pb2.py\", line 7, in <module>\n",
      "    from google.protobuf import descriptor as _descriptor\n",
      "  File \"/Users/rogerfinnerty/Desktop/TensorFlowObjectDetection/TFODCourse/tfod/lib/python3.9/site-packages/google/protobuf/descriptor.py\", line 48, in <module>\n",
      "    _message = api_implementation._c_module\n",
      "AttributeError: module 'google.protobuf.internal.api_implementation' has no attribute '_c_module'\n"
     ]
    }
   ],
   "source": [
    "VERIFICATION_SCRIPT = os.path.join(paths['APIMODEL_PATH'], 'research', 'object_detection', 'builders', 'model_builder_tf2_test.py')\n",
    "# Verify Installation\n",
    "!python {VERIFICATION_SCRIPT}"
   ]
  },
  {
   "cell_type": "code",
   "execution_count": 52,
   "metadata": {},
   "outputs": [],
   "source": [
    "import object_detection"
   ]
  },
  {
   "cell_type": "code",
   "execution_count": 62,
   "metadata": {},
   "outputs": [
    {
     "name": "stdout",
     "output_type": "stream",
     "text": [
      "Collecting protobuf==3.20.*\n",
      "  Using cached protobuf-3.20.3-cp39-cp39-macosx_10_9_x86_64.whl (982 kB)\n",
      "Installing collected packages: protobuf\n",
      "  Attempting uninstall: protobuf\n",
      "    Found existing installation: protobuf 4.21.12\n",
      "    Uninstalling protobuf-4.21.12:\n",
      "      Successfully uninstalled protobuf-4.21.12\n",
      "\u001b[31mERROR: pip's dependency resolver does not currently take into account all the packages that are installed. This behaviour is the source of the following dependency conflicts.\n",
      "tensorflow 2.11.0 requires protobuf<3.20,>=3.9.2, but you have protobuf 3.20.3 which is incompatible.\u001b[0m\u001b[31m\n",
      "\u001b[0mSuccessfully installed protobuf-3.20.3\n"
     ]
    }
   ],
   "source": [
    "!pip install protobuf==3.20.*"
   ]
  },
  {
   "cell_type": "code",
   "execution_count": 53,
   "metadata": {
    "colab": {
     "base_uri": "https://localhost:8080/"
    },
    "id": "csofht2npfDE",
    "outputId": "ff5471b2-bed2-43f2-959c-327a706527b6"
   },
   "outputs": [
    {
     "name": "stdout",
     "output_type": "stream",
     "text": [
      "--2023-01-18 16:20:53--  http://download.tensorflow.org/models/object_detection/tf2/20200711/ssd_mobilenet_v2_fpnlite_320x320_coco17_tpu-8.tar.gz\n",
      "Resolving download.tensorflow.org (download.tensorflow.org)... 2607:f8b0:4004:c06::80, 172.253.115.128\n",
      "Connecting to download.tensorflow.org (download.tensorflow.org)|2607:f8b0:4004:c06::80|:80... connected.\n",
      "HTTP request sent, awaiting response... 200 OK\n",
      "Length: 20515344 (20M) [application/x-tar]\n",
      "Saving to: 'ssd_mobilenet_v2_fpnlite_320x320_coco17_tpu-8.tar.gz'\n",
      "\n",
      "ssd_mobilenet_v2_fp 100%[===================>]  19.56M  32.9MB/s    in 0.6s    \n",
      "\n",
      "2023-01-18 16:20:54 (32.9 MB/s) - 'ssd_mobilenet_v2_fpnlite_320x320_coco17_tpu-8.tar.gz' saved [20515344/20515344]\n",
      "\n",
      "x ssd_mobilenet_v2_fpnlite_320x320_coco17_tpu-8/\n",
      "x ssd_mobilenet_v2_fpnlite_320x320_coco17_tpu-8/checkpoint/\n",
      "x ssd_mobilenet_v2_fpnlite_320x320_coco17_tpu-8/checkpoint/ckpt-0.data-00000-of-00001\n",
      "x ssd_mobilenet_v2_fpnlite_320x320_coco17_tpu-8/checkpoint/checkpoint\n",
      "x ssd_mobilenet_v2_fpnlite_320x320_coco17_tpu-8/checkpoint/ckpt-0.index\n",
      "x ssd_mobilenet_v2_fpnlite_320x320_coco17_tpu-8/pipeline.config\n",
      "x ssd_mobilenet_v2_fpnlite_320x320_coco17_tpu-8/saved_model/\n",
      "x ssd_mobilenet_v2_fpnlite_320x320_coco17_tpu-8/saved_model/saved_model.pb\n",
      "x ssd_mobilenet_v2_fpnlite_320x320_coco17_tpu-8/saved_model/variables/\n",
      "x ssd_mobilenet_v2_fpnlite_320x320_coco17_tpu-8/saved_model/variables/variables.data-00000-of-00001\n",
      "x ssd_mobilenet_v2_fpnlite_320x320_coco17_tpu-8/saved_model/variables/variables.index\n"
     ]
    }
   ],
   "source": [
    "if os.name =='posix':\n",
    "    !wget {PRETRAINED_MODEL_URL}\n",
    "    !mv {PRETRAINED_MODEL_NAME+'.tar.gz'} {paths['PRETRAINED_MODEL_PATH']}\n",
    "    !cd {paths['PRETRAINED_MODEL_PATH']} && tar -zxvf {PRETRAINED_MODEL_NAME+'.tar.gz'}\n",
    "if os.name == 'nt':\n",
    "    wget.download(PRETRAINED_MODEL_URL)\n",
    "    !move {PRETRAINED_MODEL_NAME+'.tar.gz'} {paths['PRETRAINED_MODEL_PATH']}\n",
    "    !cd {paths['PRETRAINED_MODEL_PATH']} && tar -zxvf {PRETRAINED_MODEL_NAME+'.tar.gz'}"
   ]
  },
  {
   "cell_type": "code",
   "execution_count": 13,
   "metadata": {},
   "outputs": [
    {
     "name": "stdout",
     "output_type": "stream",
     "text": [
      "Package                       Version\n",
      "----------------------------- ----------\n",
      "absl-py                       1.4.0\n",
      "apache-beam                   2.43.0\n",
      "appnope                       0.1.3\n",
      "asttokens                     2.2.1\n",
      "astunparse                    1.6.3\n",
      "avro-python3                  1.10.2\n",
      "backcall                      0.2.0\n",
      "cachetools                    5.2.1\n",
      "certifi                       2022.12.7\n",
      "charset-normalizer            3.0.1\n",
      "click                         8.1.3\n",
      "cloudpickle                   2.2.0\n",
      "colorama                      0.4.6\n",
      "comm                          0.1.2\n",
      "contextlib2                   21.6.0\n",
      "contourpy                     1.0.7\n",
      "crcmod                        1.7\n",
      "cycler                        0.11.0\n",
      "Cython                        0.29.33\n",
      "debugpy                       1.6.5\n",
      "decorator                     5.1.1\n",
      "dill                          0.3.1.1\n",
      "dm-tree                       0.1.8\n",
      "docopt                        0.6.2\n",
      "entrypoints                   0.4\n",
      "etils                         1.0.0\n",
      "executing                     1.2.0\n",
      "fastavro                      1.7.0\n",
      "fasteners                     0.18\n",
      "flatbuffers                   23.1.4\n",
      "fonttools                     4.38.0\n",
      "gast                          0.4.0\n",
      "gin-config                    0.5.0\n",
      "google-api-core               2.11.0\n",
      "google-api-python-client      2.72.0\n",
      "google-auth                   2.16.0\n",
      "google-auth-httplib2          0.1.0\n",
      "google-auth-oauthlib          0.4.6\n",
      "google-pasta                  0.2.0\n",
      "googleapis-common-protos      1.58.0\n",
      "grpcio                        1.51.1\n",
      "h5py                          3.7.0\n",
      "hdfs                          2.7.0\n",
      "httplib2                      0.20.4\n",
      "idna                          3.4\n",
      "immutabledict                 2.2.3\n",
      "importlib-metadata            6.0.0\n",
      "importlib-resources           5.10.2\n",
      "ipykernel                     6.20.1\n",
      "ipython                       8.8.0\n",
      "jedi                          0.18.2\n",
      "joblib                        1.2.0\n",
      "jupyter_client                7.4.9\n",
      "jupyter_core                  5.1.3\n",
      "kaggle                        1.5.12\n",
      "keras                         2.11.0\n",
      "kiwisolver                    1.4.4\n",
      "libclang                      15.0.6.1\n",
      "lvis                          0.5.3\n",
      "lxml                          4.9.2\n",
      "Markdown                      3.4.1\n",
      "MarkupSafe                    2.1.1\n",
      "matplotlib                    3.2.0\n",
      "matplotlib-inline             0.1.6\n",
      "nest-asyncio                  1.5.6\n",
      "numpy                         1.22.4\n",
      "oauth2client                  4.1.3\n",
      "oauthlib                      3.2.2\n",
      "object-detection              0.1\n",
      "objsize                       0.5.2\n",
      "opencv-python                 4.7.0.68\n",
      "opencv-python-headless        4.7.0.68\n",
      "opt-einsum                    3.3.0\n",
      "orjson                        3.8.5\n",
      "packaging                     23.0\n",
      "pandas                        1.5.2\n",
      "parso                         0.8.3\n",
      "pexpect                       4.8.0\n",
      "pickleshare                   0.7.5\n",
      "Pillow                        9.4.0\n",
      "pip                           22.3.1\n",
      "platformdirs                  2.6.2\n",
      "portalocker                   2.6.0\n",
      "promise                       2.3\n",
      "prompt-toolkit                3.0.36\n",
      "proto-plus                    1.22.2\n",
      "protobuf                      3.19.6\n",
      "psutil                        5.9.4\n",
      "ptyprocess                    0.7.0\n",
      "pure-eval                     0.2.2\n",
      "py-cpuinfo                    9.0.0\n",
      "pyarrow                       9.0.0\n",
      "pyasn1                        0.4.8\n",
      "pyasn1-modules                0.2.8\n",
      "pycocotools                   2.0.6\n",
      "pydot                         1.4.2\n",
      "Pygments                      2.14.0\n",
      "pymongo                       3.13.0\n",
      "pyparsing                     2.4.7\n",
      "PyQt5                         5.15.7\n",
      "PyQt5-Qt5                     5.15.2\n",
      "PyQt5-sip                     12.11.0\n",
      "python-dateutil               2.8.2\n",
      "python-slugify                7.0.0\n",
      "pytz                          2022.7\n",
      "PyYAML                        5.4.1\n",
      "pyzmq                         25.0.0\n",
      "regex                         2022.10.31\n",
      "requests                      2.28.2\n",
      "requests-oauthlib             1.3.1\n",
      "rsa                           4.9\n",
      "sacrebleu                     2.2.0\n",
      "scikit-learn                  1.2.0\n",
      "scipy                         1.10.0\n",
      "sentencepiece                 0.1.97\n",
      "seqeval                       1.2.2\n",
      "setuptools                    58.1.0\n",
      "six                           1.16.0\n",
      "stack-data                    0.6.2\n",
      "tabulate                      0.9.0\n",
      "tensorboard                   2.11.1\n",
      "tensorboard-data-server       0.6.1\n",
      "tensorboard-plugin-wit        1.8.1\n",
      "tensorflow                    2.11.0\n",
      "tensorflow-addons             0.19.0\n",
      "tensorflow-datasets           4.8.1\n",
      "tensorflow-estimator          2.11.0\n",
      "tensorflow-hub                0.12.0\n",
      "tensorflow-io                 0.29.0\n",
      "tensorflow-io-gcs-filesystem  0.29.0\n",
      "tensorflow-metadata           1.12.0\n",
      "tensorflow-model-optimization 0.7.3\n",
      "tensorflow-text               2.11.0\n",
      "termcolor                     2.2.0\n",
      "text-unidecode                1.3\n",
      "tf-models-official            2.11.2\n",
      "tf-slim                       1.1.0\n",
      "threadpoolctl                 3.1.0\n",
      "toml                          0.10.2\n",
      "tornado                       6.2\n",
      "tqdm                          4.64.1\n",
      "traitlets                     5.8.1\n",
      "typeguard                     2.13.3\n",
      "typing_extensions             4.4.0\n",
      "uritemplate                   4.1.1\n",
      "urllib3                       1.26.14\n",
      "wcwidth                       0.2.5\n",
      "Werkzeug                      2.2.2\n",
      "wheel                         0.38.4\n",
      "wrapt                         1.14.1\n",
      "zipp                          3.11.0\n",
      "zstandard                     0.19.0\n"
     ]
    }
   ],
   "source": [
    "!pip list"
   ]
  },
  {
   "cell_type": "markdown",
   "metadata": {
    "id": "M5KJTnkfpfDC"
   },
   "source": [
    "# 2. Create Label Map"
   ]
  },
  {
   "cell_type": "code",
   "execution_count": 54,
   "metadata": {
    "id": "p1BVDWo7pfDC"
   },
   "outputs": [],
   "source": [
    "#Original code \n",
    "#labels = [{'name':'ThumbsUp', 'id':1}, {'name':'ThumbsDown', 'id':2}, {'name':'ThankYou', 'id':3}, {'name':'LiveLong', 'id':4}]\n",
    "\n",
    "labels = [{'name':'Goose', 'id':1}, {'name':'Tree', 'id':2}]\n",
    "with open(files['LABELMAP'], 'w') as f:\n",
    "    for label in labels:\n",
    "        f.write('item { \\n')\n",
    "        f.write('\\tname:\\'{}\\'\\n'.format(label['name']))\n",
    "        f.write('\\tid:{}\\n'.format(label['id']))\n",
    "        f.write('}\\n')"
   ]
  },
  {
   "cell_type": "markdown",
   "metadata": {
    "id": "C88zyVELpfDC"
   },
   "source": [
    "# 3. Creat tf records"
   ]
  },
  {
   "cell_type": "code",
   "execution_count": 55,
   "metadata": {
    "colab": {
     "base_uri": "https://localhost:8080/"
    },
    "id": "kvf5WccwrFGq",
    "outputId": "49902aeb-0bd7-4298-e1a0-5b4a64eb2064"
   },
   "outputs": [],
   "source": [
    "# OPTIONAL IF RUNNING ON COLAB\n",
    "ARCHIVE_FILES = os.path.join(paths['IMAGE_PATH'], 'archive.tar.gz')\n",
    "if os.path.exists(ARCHIVE_FILES):\n",
    "  !tar -zxvf {ARCHIVE_FILES}"
   ]
  },
  {
   "cell_type": "code",
   "execution_count": 56,
   "metadata": {
    "colab": {
     "base_uri": "https://localhost:8080/"
    },
    "id": "KWpb_BVUpfDD",
    "outputId": "56ce2a3f-3933-4ee6-8a9d-d5ec65f7d73c"
   },
   "outputs": [],
   "source": [
    "if not os.path.exists(files['TF_RECORD_SCRIPT']):\n",
    "    !git clone https://github.com/nicknochnack/GenerateTFRecord {paths['SCRIPTS_PATH']}"
   ]
  },
  {
   "cell_type": "code",
   "execution_count": 93,
   "metadata": {
    "colab": {
     "base_uri": "https://localhost:8080/"
    },
    "id": "UPFToGZqpfDD",
    "outputId": "0ebb456f-aadc-4a1f-96e6-fbfec1923e1c"
   },
   "outputs": [
    {
     "name": "stdout",
     "output_type": "stream",
     "text": [
      "Successfully created the TFRecord file: Tensorflow/workspace/annotations/train.record\n",
      "Successfully created the TFRecord file: Tensorflow/workspace/annotations/test.record\n"
     ]
    }
   ],
   "source": [
    "#Original code\n",
    "#!python {files['TF_RECORD_SCRIPT']} -x {os.path.join(paths['IMAGE_PATH'], 'train')} -l {files['LABELMAP']} -o {os.path.join(paths['ANNOTATION_PATH'], 'train.record')} \n",
    "#!python {files['TF_RECORD_SCRIPT']} -x {os.path.join(paths['IMAGE_PATH'], 'test')} -l {files['LABELMAP']} -o {os.path.join(paths['ANNOTATION_PATH'], 'test.record')} \n",
    "\n",
    "!python {files['TF_RECORD_SCRIPT']} -x {os.path.join(paths['IMAGE_PATH'], 'goose_train')} -l {files['LABELMAP']} -o {os.path.join(paths['ANNOTATION_PATH'], 'train.record')} \n",
    "!python {files['TF_RECORD_SCRIPT']} -x {os.path.join(paths['IMAGE_PATH'], 'goose_test')} -l {files['LABELMAP']} -o {os.path.join(paths['ANNOTATION_PATH'], 'test.record')} \n"
   ]
  },
  {
   "cell_type": "markdown",
   "metadata": {
    "id": "qT4QU7pLpfDE"
   },
   "source": [
    "# 4. Copy Model Config to Training Folder"
   ]
  },
  {
   "cell_type": "code",
   "execution_count": 18,
   "metadata": {
    "id": "cOjuTFbwpfDF"
   },
   "outputs": [],
   "source": [
    "if os.name =='posix':\n",
    "    !cp {os.path.join(paths['PRETRAINED_MODEL_PATH'], PRETRAINED_MODEL_NAME, 'pipeline.config')} {os.path.join(paths['CHECKPOINT_PATH'])}\n",
    "if os.name == 'nt':\n",
    "    !copy {os.path.join(paths['PRETRAINED_MODEL_PATH'], PRETRAINED_MODEL_NAME, 'pipeline.config')} {os.path.join(paths['CHECKPOINT_PATH'])}"
   ]
  },
  {
   "cell_type": "markdown",
   "metadata": {
    "id": "Ga8gpNslpfDF"
   },
   "source": [
    "# 5. Update Config For Transfer Learning"
   ]
  },
  {
   "cell_type": "code",
   "execution_count": 19,
   "metadata": {
    "id": "Z9hRrO_ppfDF"
   },
   "outputs": [
    {
     "name": "stderr",
     "output_type": "stream",
     "text": [
      "2023-01-17 19:55:42.528889: I tensorflow/core/platform/cpu_feature_guard.cc:193] This TensorFlow binary is optimized with oneAPI Deep Neural Network Library (oneDNN) to use the following CPU instructions in performance-critical operations:  AVX2 FMA\n",
      "To enable them in other operations, rebuild TensorFlow with the appropriate compiler flags.\n"
     ]
    }
   ],
   "source": [
    "import tensorflow as tf\n",
    "from object_detection.utils import config_util\n",
    "from object_detection.protos import pipeline_pb2\n",
    "from google.protobuf import text_format"
   ]
  },
  {
   "cell_type": "code",
   "execution_count": 20,
   "metadata": {
    "id": "c2A0mn4ipfDF"
   },
   "outputs": [],
   "source": [
    "config = config_util.get_configs_from_pipeline_file(files['PIPELINE_CONFIG'])"
   ]
  },
  {
   "cell_type": "code",
   "execution_count": 21,
   "metadata": {
    "colab": {
     "base_uri": "https://localhost:8080/"
    },
    "id": "uQA13-afpfDF",
    "outputId": "907496a4-a39d-4b13-8c2c-e5978ecb1f10"
   },
   "outputs": [
    {
     "data": {
      "text/plain": [
       "{'model': ssd {\n",
       "   num_classes: 90\n",
       "   image_resizer {\n",
       "     fixed_shape_resizer {\n",
       "       height: 320\n",
       "       width: 320\n",
       "     }\n",
       "   }\n",
       "   feature_extractor {\n",
       "     type: \"ssd_mobilenet_v2_fpn_keras\"\n",
       "     depth_multiplier: 1.0\n",
       "     min_depth: 16\n",
       "     conv_hyperparams {\n",
       "       regularizer {\n",
       "         l2_regularizer {\n",
       "           weight: 3.9999998989515007e-05\n",
       "         }\n",
       "       }\n",
       "       initializer {\n",
       "         random_normal_initializer {\n",
       "           mean: 0.0\n",
       "           stddev: 0.009999999776482582\n",
       "         }\n",
       "       }\n",
       "       activation: RELU_6\n",
       "       batch_norm {\n",
       "         decay: 0.996999979019165\n",
       "         scale: true\n",
       "         epsilon: 0.0010000000474974513\n",
       "       }\n",
       "     }\n",
       "     use_depthwise: true\n",
       "     override_base_feature_extractor_hyperparams: true\n",
       "     fpn {\n",
       "       min_level: 3\n",
       "       max_level: 7\n",
       "       additional_layer_depth: 128\n",
       "     }\n",
       "   }\n",
       "   box_coder {\n",
       "     faster_rcnn_box_coder {\n",
       "       y_scale: 10.0\n",
       "       x_scale: 10.0\n",
       "       height_scale: 5.0\n",
       "       width_scale: 5.0\n",
       "     }\n",
       "   }\n",
       "   matcher {\n",
       "     argmax_matcher {\n",
       "       matched_threshold: 0.5\n",
       "       unmatched_threshold: 0.5\n",
       "       ignore_thresholds: false\n",
       "       negatives_lower_than_unmatched: true\n",
       "       force_match_for_each_row: true\n",
       "       use_matmul_gather: true\n",
       "     }\n",
       "   }\n",
       "   similarity_calculator {\n",
       "     iou_similarity {\n",
       "     }\n",
       "   }\n",
       "   box_predictor {\n",
       "     weight_shared_convolutional_box_predictor {\n",
       "       conv_hyperparams {\n",
       "         regularizer {\n",
       "           l2_regularizer {\n",
       "             weight: 3.9999998989515007e-05\n",
       "           }\n",
       "         }\n",
       "         initializer {\n",
       "           random_normal_initializer {\n",
       "             mean: 0.0\n",
       "             stddev: 0.009999999776482582\n",
       "           }\n",
       "         }\n",
       "         activation: RELU_6\n",
       "         batch_norm {\n",
       "           decay: 0.996999979019165\n",
       "           scale: true\n",
       "           epsilon: 0.0010000000474974513\n",
       "         }\n",
       "       }\n",
       "       depth: 128\n",
       "       num_layers_before_predictor: 4\n",
       "       kernel_size: 3\n",
       "       class_prediction_bias_init: -4.599999904632568\n",
       "       share_prediction_tower: true\n",
       "       use_depthwise: true\n",
       "     }\n",
       "   }\n",
       "   anchor_generator {\n",
       "     multiscale_anchor_generator {\n",
       "       min_level: 3\n",
       "       max_level: 7\n",
       "       anchor_scale: 4.0\n",
       "       aspect_ratios: 1.0\n",
       "       aspect_ratios: 2.0\n",
       "       aspect_ratios: 0.5\n",
       "       scales_per_octave: 2\n",
       "     }\n",
       "   }\n",
       "   post_processing {\n",
       "     batch_non_max_suppression {\n",
       "       score_threshold: 9.99999993922529e-09\n",
       "       iou_threshold: 0.6000000238418579\n",
       "       max_detections_per_class: 100\n",
       "       max_total_detections: 100\n",
       "       use_static_shapes: false\n",
       "     }\n",
       "     score_converter: SIGMOID\n",
       "   }\n",
       "   normalize_loss_by_num_matches: true\n",
       "   loss {\n",
       "     localization_loss {\n",
       "       weighted_smooth_l1 {\n",
       "       }\n",
       "     }\n",
       "     classification_loss {\n",
       "       weighted_sigmoid_focal {\n",
       "         gamma: 2.0\n",
       "         alpha: 0.25\n",
       "       }\n",
       "     }\n",
       "     classification_weight: 1.0\n",
       "     localization_weight: 1.0\n",
       "   }\n",
       "   encode_background_as_zeros: true\n",
       "   normalize_loc_loss_by_codesize: true\n",
       "   inplace_batchnorm_update: true\n",
       "   freeze_batchnorm: false\n",
       " },\n",
       " 'train_config': batch_size: 128\n",
       " data_augmentation_options {\n",
       "   random_horizontal_flip {\n",
       "   }\n",
       " }\n",
       " data_augmentation_options {\n",
       "   random_crop_image {\n",
       "     min_object_covered: 0.0\n",
       "     min_aspect_ratio: 0.75\n",
       "     max_aspect_ratio: 3.0\n",
       "     min_area: 0.75\n",
       "     max_area: 1.0\n",
       "     overlap_thresh: 0.0\n",
       "   }\n",
       " }\n",
       " sync_replicas: true\n",
       " optimizer {\n",
       "   momentum_optimizer {\n",
       "     learning_rate {\n",
       "       cosine_decay_learning_rate {\n",
       "         learning_rate_base: 0.07999999821186066\n",
       "         total_steps: 50000\n",
       "         warmup_learning_rate: 0.026666000485420227\n",
       "         warmup_steps: 1000\n",
       "       }\n",
       "     }\n",
       "     momentum_optimizer_value: 0.8999999761581421\n",
       "   }\n",
       "   use_moving_average: false\n",
       " }\n",
       " fine_tune_checkpoint: \"PATH_TO_BE_CONFIGURED\"\n",
       " num_steps: 50000\n",
       " startup_delay_steps: 0.0\n",
       " replicas_to_aggregate: 8\n",
       " max_number_of_boxes: 100\n",
       " unpad_groundtruth_tensors: false\n",
       " fine_tune_checkpoint_type: \"classification\"\n",
       " fine_tune_checkpoint_version: V2,\n",
       " 'train_input_config': label_map_path: \"PATH_TO_BE_CONFIGURED\"\n",
       " tf_record_input_reader {\n",
       "   input_path: \"PATH_TO_BE_CONFIGURED\"\n",
       " },\n",
       " 'eval_config': metrics_set: \"coco_detection_metrics\"\n",
       " use_moving_averages: false,\n",
       " 'eval_input_configs': [label_map_path: \"PATH_TO_BE_CONFIGURED\"\n",
       " shuffle: false\n",
       " num_epochs: 1\n",
       " tf_record_input_reader {\n",
       "   input_path: \"PATH_TO_BE_CONFIGURED\"\n",
       " }\n",
       " ],\n",
       " 'eval_input_config': label_map_path: \"PATH_TO_BE_CONFIGURED\"\n",
       " shuffle: false\n",
       " num_epochs: 1\n",
       " tf_record_input_reader {\n",
       "   input_path: \"PATH_TO_BE_CONFIGURED\"\n",
       " }}"
      ]
     },
     "execution_count": 21,
     "metadata": {},
     "output_type": "execute_result"
    }
   ],
   "source": [
    "config"
   ]
  },
  {
   "cell_type": "code",
   "execution_count": 22,
   "metadata": {
    "id": "9vK5lotDpfDF"
   },
   "outputs": [],
   "source": [
    "pipeline_config = pipeline_pb2.TrainEvalPipelineConfig()\n",
    "with tf.io.gfile.GFile(files['PIPELINE_CONFIG'], \"r\") as f:                                                                                                                                                                                                                     \n",
    "    proto_str = f.read()                                                                                                                                                                                                                                          \n",
    "    text_format.Merge(proto_str, pipeline_config)  "
   ]
  },
  {
   "cell_type": "code",
   "execution_count": 23,
   "metadata": {
    "id": "rP43Ph0JpfDG"
   },
   "outputs": [],
   "source": [
    "pipeline_config.model.ssd.num_classes = len(labels)\n",
    "pipeline_config.train_config.batch_size = 4\n",
    "pipeline_config.train_config.fine_tune_checkpoint = os.path.join(paths['PRETRAINED_MODEL_PATH'], PRETRAINED_MODEL_NAME, 'checkpoint', 'ckpt-0')\n",
    "pipeline_config.train_config.fine_tune_checkpoint_type = \"detection\"\n",
    "pipeline_config.train_input_reader.label_map_path= files['LABELMAP']\n",
    "pipeline_config.train_input_reader.tf_record_input_reader.input_path[:] = [os.path.join(paths['ANNOTATION_PATH'], 'train.record')]\n",
    "pipeline_config.eval_input_reader[0].label_map_path = files['LABELMAP']\n",
    "pipeline_config.eval_input_reader[0].tf_record_input_reader.input_path[:] = [os.path.join(paths['ANNOTATION_PATH'], 'test.record')]"
   ]
  },
  {
   "cell_type": "code",
   "execution_count": 24,
   "metadata": {
    "id": "oJvfgwWqpfDG"
   },
   "outputs": [],
   "source": [
    "config_text = text_format.MessageToString(pipeline_config)                                                                                                                                                                                                        \n",
    "with tf.io.gfile.GFile(files['PIPELINE_CONFIG'], \"wb\") as f:                                                                                                                                                                                                                     \n",
    "    f.write(config_text)   "
   ]
  },
  {
   "cell_type": "markdown",
   "metadata": {},
   "source": [
    "# 6. Train the model"
   ]
  },
  {
   "cell_type": "code",
   "execution_count": 25,
   "metadata": {
    "id": "B-Y2UQmQpfDG"
   },
   "outputs": [],
   "source": [
    "TRAINING_SCRIPT = os.path.join(paths['APIMODEL_PATH'], 'research', 'object_detection', 'model_main_tf2.py')"
   ]
  },
  {
   "cell_type": "code",
   "execution_count": 26,
   "metadata": {
    "id": "jMP2XDfQpfDH"
   },
   "outputs": [],
   "source": [
    "command = \"python {} --model_dir={} --pipeline_config_path={} --num_train_steps=2000\".format(TRAINING_SCRIPT, paths['CHECKPOINT_PATH'],files['PIPELINE_CONFIG'])"
   ]
  },
  {
   "cell_type": "code",
   "execution_count": 27,
   "metadata": {
    "colab": {
     "base_uri": "https://localhost:8080/"
    },
    "id": "A4OXXi-ApfDH",
    "outputId": "117a0e83-012b-466e-b7a6-ccaa349ac5ab"
   },
   "outputs": [
    {
     "name": "stdout",
     "output_type": "stream",
     "text": [
      "python Tensorflow/models/research/object_detection/model_main_tf2.py --model_dir=Tensorflow/workspace/models/my_ssd_mobnet --pipeline_config_path=Tensorflow/workspace/models/my_ssd_mobnet/pipeline.config --num_train_steps=2000\n"
     ]
    }
   ],
   "source": [
    "print(command)"
   ]
  },
  {
   "cell_type": "code",
   "execution_count": 28,
   "metadata": {
    "colab": {
     "base_uri": "https://localhost:8080/"
    },
    "id": "i3ZsJR-qpfDH",
    "outputId": "cabec5e1-45e6-4f2f-d9cf-297d9c1d0225",
    "scrolled": false
   },
   "outputs": [
    {
     "name": "stdout",
     "output_type": "stream",
     "text": [
      "2023-01-17 19:59:14.950767: I tensorflow/core/platform/cpu_feature_guard.cc:193] This TensorFlow binary is optimized with oneAPI Deep Neural Network Library (oneDNN) to use the following CPU instructions in performance-critical operations:  AVX2 FMA\n",
      "To enable them in other operations, rebuild TensorFlow with the appropriate compiler flags.\n",
      "2023-01-17 19:59:21.636060: I tensorflow/core/platform/cpu_feature_guard.cc:193] This TensorFlow binary is optimized with oneAPI Deep Neural Network Library (oneDNN) to use the following CPU instructions in performance-critical operations:  AVX2 FMA\n",
      "To enable them in other operations, rebuild TensorFlow with the appropriate compiler flags.\n",
      "WARNING:tensorflow:There are non-GPU devices in `tf.distribute.Strategy`, not using nccl allreduce.\n",
      "W0117 19:59:21.641521 4655971840 cross_device_ops.py:1387] There are non-GPU devices in `tf.distribute.Strategy`, not using nccl allreduce.\n",
      "INFO:tensorflow:Using MirroredStrategy with devices ('/job:localhost/replica:0/task:0/device:CPU:0',)\n",
      "I0117 19:59:21.693943 4655971840 mirrored_strategy.py:374] Using MirroredStrategy with devices ('/job:localhost/replica:0/task:0/device:CPU:0',)\n",
      "INFO:tensorflow:Maybe overwriting train_steps: 2000\n",
      "I0117 19:59:21.698778 4655971840 config_util.py:552] Maybe overwriting train_steps: 2000\n",
      "INFO:tensorflow:Maybe overwriting use_bfloat16: False\n",
      "I0117 19:59:21.698924 4655971840 config_util.py:552] Maybe overwriting use_bfloat16: False\n",
      "WARNING:tensorflow:From /Users/rogerfinnerty/Desktop/TensorFlowObjectDetection/TFODCourse/tfod/lib/python3.9/site-packages/object_detection/model_lib_v2.py:563: StrategyBase.experimental_distribute_datasets_from_function (from tensorflow.python.distribute.distribute_lib) is deprecated and will be removed in a future version.\n",
      "Instructions for updating:\n",
      "rename to distribute_datasets_from_function\n",
      "W0117 19:59:21.734064 4655971840 deprecation.py:350] From /Users/rogerfinnerty/Desktop/TensorFlowObjectDetection/TFODCourse/tfod/lib/python3.9/site-packages/object_detection/model_lib_v2.py:563: StrategyBase.experimental_distribute_datasets_from_function (from tensorflow.python.distribute.distribute_lib) is deprecated and will be removed in a future version.\n",
      "Instructions for updating:\n",
      "rename to distribute_datasets_from_function\n",
      "INFO:tensorflow:Reading unweighted datasets: ['Tensorflow/workspace/annotations/train.record']\n",
      "I0117 19:59:21.746149 4655971840 dataset_builder.py:162] Reading unweighted datasets: ['Tensorflow/workspace/annotations/train.record']\n",
      "INFO:tensorflow:Reading record datasets for input file: ['Tensorflow/workspace/annotations/train.record']\n",
      "I0117 19:59:21.746682 4655971840 dataset_builder.py:79] Reading record datasets for input file: ['Tensorflow/workspace/annotations/train.record']\n",
      "INFO:tensorflow:Number of filenames to read: 1\n",
      "I0117 19:59:21.746791 4655971840 dataset_builder.py:80] Number of filenames to read: 1\n",
      "WARNING:tensorflow:num_readers has been reduced to 1 to match input file shards.\n",
      "W0117 19:59:21.746876 4655971840 dataset_builder.py:86] num_readers has been reduced to 1 to match input file shards.\n",
      "WARNING:tensorflow:From /Users/rogerfinnerty/Desktop/TensorFlowObjectDetection/TFODCourse/tfod/lib/python3.9/site-packages/object_detection/builders/dataset_builder.py:100: parallel_interleave (from tensorflow.python.data.experimental.ops.interleave_ops) is deprecated and will be removed in a future version.\n",
      "Instructions for updating:\n",
      "Use `tf.data.Dataset.interleave(map_func, cycle_length, block_length, num_parallel_calls=tf.data.AUTOTUNE)` instead. If sloppy execution is desired, use `tf.data.Options.deterministic`.\n",
      "W0117 19:59:21.762045 4655971840 deprecation.py:350] From /Users/rogerfinnerty/Desktop/TensorFlowObjectDetection/TFODCourse/tfod/lib/python3.9/site-packages/object_detection/builders/dataset_builder.py:100: parallel_interleave (from tensorflow.python.data.experimental.ops.interleave_ops) is deprecated and will be removed in a future version.\n",
      "Instructions for updating:\n",
      "Use `tf.data.Dataset.interleave(map_func, cycle_length, block_length, num_parallel_calls=tf.data.AUTOTUNE)` instead. If sloppy execution is desired, use `tf.data.Options.deterministic`.\n",
      "WARNING:tensorflow:From /Users/rogerfinnerty/Desktop/TensorFlowObjectDetection/TFODCourse/tfod/lib/python3.9/site-packages/object_detection/builders/dataset_builder.py:235: DatasetV1.map_with_legacy_function (from tensorflow.python.data.ops.dataset_ops) is deprecated and will be removed in a future version.\n",
      "Instructions for updating:\n",
      "Use `tf.data.Dataset.map()\n",
      "W0117 19:59:21.793195 4655971840 deprecation.py:350] From /Users/rogerfinnerty/Desktop/TensorFlowObjectDetection/TFODCourse/tfod/lib/python3.9/site-packages/object_detection/builders/dataset_builder.py:235: DatasetV1.map_with_legacy_function (from tensorflow.python.data.ops.dataset_ops) is deprecated and will be removed in a future version.\n",
      "Instructions for updating:\n",
      "Use `tf.data.Dataset.map()\n",
      "WARNING:tensorflow:From /Users/rogerfinnerty/Desktop/TensorFlowObjectDetection/TFODCourse/tfod/lib/python3.9/site-packages/tensorflow/python/autograph/pyct/static_analysis/liveness.py:83: Analyzer.lamba_check (from tensorflow.python.autograph.pyct.static_analysis.liveness) is deprecated and will be removed after 2023-09-23.\n",
      "Instructions for updating:\n",
      "Lambda fuctions will be no more assumed to be used in the statement where they are used, or at least in the same block. https://github.com/tensorflow/tensorflow/issues/56089\n",
      "W0117 19:59:22.411558 4655971840 deprecation.py:350] From /Users/rogerfinnerty/Desktop/TensorFlowObjectDetection/TFODCourse/tfod/lib/python3.9/site-packages/tensorflow/python/autograph/pyct/static_analysis/liveness.py:83: Analyzer.lamba_check (from tensorflow.python.autograph.pyct.static_analysis.liveness) is deprecated and will be removed after 2023-09-23.\n",
      "Instructions for updating:\n",
      "Lambda fuctions will be no more assumed to be used in the statement where they are used, or at least in the same block. https://github.com/tensorflow/tensorflow/issues/56089\n",
      "WARNING:tensorflow:From /Users/rogerfinnerty/Desktop/TensorFlowObjectDetection/TFODCourse/tfod/lib/python3.9/site-packages/tensorflow/python/util/dispatch.py:1176: sparse_to_dense (from tensorflow.python.ops.sparse_ops) is deprecated and will be removed in a future version.\n",
      "Instructions for updating:\n",
      "Create a `tf.sparse.SparseTensor` and use `tf.sparse.to_dense` instead.\n",
      "W0117 19:59:29.169368 4655971840 deprecation.py:350] From /Users/rogerfinnerty/Desktop/TensorFlowObjectDetection/TFODCourse/tfod/lib/python3.9/site-packages/tensorflow/python/util/dispatch.py:1176: sparse_to_dense (from tensorflow.python.ops.sparse_ops) is deprecated and will be removed in a future version.\n",
      "Instructions for updating:\n",
      "Create a `tf.sparse.SparseTensor` and use `tf.sparse.to_dense` instead.\n",
      "WARNING:tensorflow:From /Users/rogerfinnerty/Desktop/TensorFlowObjectDetection/TFODCourse/tfod/lib/python3.9/site-packages/tensorflow/python/util/dispatch.py:1176: sample_distorted_bounding_box (from tensorflow.python.ops.image_ops_impl) is deprecated and will be removed in a future version.\n",
      "Instructions for updating:\n",
      "`seed2` arg is deprecated.Use sample_distorted_bounding_box_v2 instead.\n",
      "W0117 19:59:33.152867 4655971840 deprecation.py:350] From /Users/rogerfinnerty/Desktop/TensorFlowObjectDetection/TFODCourse/tfod/lib/python3.9/site-packages/tensorflow/python/util/dispatch.py:1176: sample_distorted_bounding_box (from tensorflow.python.ops.image_ops_impl) is deprecated and will be removed in a future version.\n",
      "Instructions for updating:\n",
      "`seed2` arg is deprecated.Use sample_distorted_bounding_box_v2 instead.\n",
      "WARNING:tensorflow:From /Users/rogerfinnerty/Desktop/TensorFlowObjectDetection/TFODCourse/tfod/lib/python3.9/site-packages/tensorflow/python/util/dispatch.py:1176: to_float (from tensorflow.python.ops.math_ops) is deprecated and will be removed in a future version.\n",
      "Instructions for updating:\n",
      "Use `tf.cast` instead.\n",
      "W0117 19:59:35.160385 4655971840 deprecation.py:350] From /Users/rogerfinnerty/Desktop/TensorFlowObjectDetection/TFODCourse/tfod/lib/python3.9/site-packages/tensorflow/python/util/dispatch.py:1176: to_float (from tensorflow.python.ops.math_ops) is deprecated and will be removed in a future version.\n",
      "Instructions for updating:\n",
      "Use `tf.cast` instead.\n"
     ]
    },
    {
     "name": "stdout",
     "output_type": "stream",
     "text": [
      "2023-01-17 19:59:38.996586: W tensorflow/core/framework/dataset.cc:769] Input of GeneratorDatasetOp::Dataset will not be optimized because the dataset does not implement the AsGraphDefInternal() method needed to apply optimizations.\n",
      "/Users/rogerfinnerty/Desktop/TensorFlowObjectDetection/TFODCourse/tfod/lib/python3.9/site-packages/keras/backend.py:451: UserWarning: `tf.keras.backend.set_learning_phase` is deprecated and will be removed after 2020-10-11. To update it, simply pass a True/False value to the `training` argument of the `__call__` method of your layer or model.\n",
      "  warnings.warn(\n",
      "WARNING:tensorflow:From /Users/rogerfinnerty/Desktop/TensorFlowObjectDetection/TFODCourse/tfod/lib/python3.9/site-packages/tensorflow/python/util/deprecation.py:629: calling map_fn_v2 (from tensorflow.python.ops.map_fn) with dtype is deprecated and will be removed in a future version.\n",
      "Instructions for updating:\n",
      "Use fn_output_signature instead\n",
      "W0117 20:00:08.646538 123145557594112 deprecation.py:554] From /Users/rogerfinnerty/Desktop/TensorFlowObjectDetection/TFODCourse/tfod/lib/python3.9/site-packages/tensorflow/python/util/deprecation.py:629: calling map_fn_v2 (from tensorflow.python.ops.map_fn) with dtype is deprecated and will be removed in a future version.\n",
      "Instructions for updating:\n",
      "Use fn_output_signature instead\n",
      "INFO:tensorflow:Step 100 per-step time 1.816s\n",
      "I0117 20:03:09.678476 4655971840 model_lib_v2.py:705] Step 100 per-step time 1.816s\n",
      "INFO:tensorflow:{'Loss/classification_loss': 0.519624,\n",
      " 'Loss/localization_loss': 0.46007168,\n",
      " 'Loss/regularization_loss': 0.15417023,\n",
      " 'Loss/total_loss': 1.1338658,\n",
      " 'learning_rate': 0.0319994}\n",
      "I0117 20:03:09.678812 4655971840 model_lib_v2.py:708] {'Loss/classification_loss': 0.519624,\n",
      " 'Loss/localization_loss': 0.46007168,\n",
      " 'Loss/regularization_loss': 0.15417023,\n",
      " 'Loss/total_loss': 1.1338658,\n",
      " 'learning_rate': 0.0319994}\n",
      "INFO:tensorflow:Step 200 per-step time 1.587s\n",
      "I0117 20:05:48.315764 4655971840 model_lib_v2.py:705] Step 200 per-step time 1.587s\n",
      "INFO:tensorflow:{'Loss/classification_loss': 0.169735,\n",
      " 'Loss/localization_loss': 0.20623358,\n",
      " 'Loss/regularization_loss': 0.15434206,\n",
      " 'Loss/total_loss': 0.53031063,\n",
      " 'learning_rate': 0.0373328}\n",
      "I0117 20:05:48.316175 4655971840 model_lib_v2.py:708] {'Loss/classification_loss': 0.169735,\n",
      " 'Loss/localization_loss': 0.20623358,\n",
      " 'Loss/regularization_loss': 0.15434206,\n",
      " 'Loss/total_loss': 0.53031063,\n",
      " 'learning_rate': 0.0373328}\n",
      "INFO:tensorflow:Step 300 per-step time 1.543s\n",
      "I0117 20:08:22.654869 4655971840 model_lib_v2.py:705] Step 300 per-step time 1.543s\n",
      "INFO:tensorflow:{'Loss/classification_loss': 0.114653856,\n",
      " 'Loss/localization_loss': 0.14788018,\n",
      " 'Loss/regularization_loss': 0.15417984,\n",
      " 'Loss/total_loss': 0.4167139,\n",
      " 'learning_rate': 0.0426662}\n",
      "I0117 20:08:22.655598 4655971840 model_lib_v2.py:708] {'Loss/classification_loss': 0.114653856,\n",
      " 'Loss/localization_loss': 0.14788018,\n",
      " 'Loss/regularization_loss': 0.15417984,\n",
      " 'Loss/total_loss': 0.4167139,\n",
      " 'learning_rate': 0.0426662}\n",
      "INFO:tensorflow:Step 400 per-step time 1.513s\n",
      "I0117 20:10:54.084050 4655971840 model_lib_v2.py:705] Step 400 per-step time 1.513s\n",
      "INFO:tensorflow:{'Loss/classification_loss': 0.12569909,\n",
      " 'Loss/localization_loss': 0.09906,\n",
      " 'Loss/regularization_loss': 0.15394545,\n",
      " 'Loss/total_loss': 0.37870455,\n",
      " 'learning_rate': 0.047999598}\n",
      "I0117 20:10:54.091037 4655971840 model_lib_v2.py:708] {'Loss/classification_loss': 0.12569909,\n",
      " 'Loss/localization_loss': 0.09906,\n",
      " 'Loss/regularization_loss': 0.15394545,\n",
      " 'Loss/total_loss': 0.37870455,\n",
      " 'learning_rate': 0.047999598}\n",
      "INFO:tensorflow:Step 500 per-step time 1.314s\n",
      "I0117 20:13:05.321822 4655971840 model_lib_v2.py:705] Step 500 per-step time 1.314s\n",
      "INFO:tensorflow:{'Loss/classification_loss': 0.17833573,\n",
      " 'Loss/localization_loss': 0.06829376,\n",
      " 'Loss/regularization_loss': 0.15366639,\n",
      " 'Loss/total_loss': 0.40029585,\n",
      " 'learning_rate': 0.053333}\n",
      "I0117 20:13:05.322828 4655971840 model_lib_v2.py:708] {'Loss/classification_loss': 0.17833573,\n",
      " 'Loss/localization_loss': 0.06829376,\n",
      " 'Loss/regularization_loss': 0.15366639,\n",
      " 'Loss/total_loss': 0.40029585,\n",
      " 'learning_rate': 0.053333}\n",
      "INFO:tensorflow:Step 600 per-step time 1.197s\n",
      "I0117 20:15:05.045043 4655971840 model_lib_v2.py:705] Step 600 per-step time 1.197s\n",
      "INFO:tensorflow:{'Loss/classification_loss': 0.1901533,\n",
      " 'Loss/localization_loss': 0.06291166,\n",
      " 'Loss/regularization_loss': 0.15342003,\n",
      " 'Loss/total_loss': 0.406485,\n",
      " 'learning_rate': 0.0586664}\n",
      "I0117 20:15:05.045317 4655971840 model_lib_v2.py:708] {'Loss/classification_loss': 0.1901533,\n",
      " 'Loss/localization_loss': 0.06291166,\n",
      " 'Loss/regularization_loss': 0.15342003,\n",
      " 'Loss/total_loss': 0.406485,\n",
      " 'learning_rate': 0.0586664}\n",
      "INFO:tensorflow:Step 700 per-step time 1.293s\n",
      "I0117 20:17:14.359748 4655971840 model_lib_v2.py:705] Step 700 per-step time 1.293s\n",
      "INFO:tensorflow:{'Loss/classification_loss': 0.12204303,\n",
      " 'Loss/localization_loss': 0.108323514,\n",
      " 'Loss/regularization_loss': 0.15300196,\n",
      " 'Loss/total_loss': 0.3833685,\n",
      " 'learning_rate': 0.0639998}\n",
      "I0117 20:17:14.360032 4655971840 model_lib_v2.py:708] {'Loss/classification_loss': 0.12204303,\n",
      " 'Loss/localization_loss': 0.108323514,\n",
      " 'Loss/regularization_loss': 0.15300196,\n",
      " 'Loss/total_loss': 0.3833685,\n",
      " 'learning_rate': 0.0639998}\n",
      "INFO:tensorflow:Step 800 per-step time 1.147s\n",
      "I0117 20:19:09.067382 4655971840 model_lib_v2.py:705] Step 800 per-step time 1.147s\n",
      "INFO:tensorflow:{'Loss/classification_loss': 0.089873515,\n",
      " 'Loss/localization_loss': 0.048580598,\n",
      " 'Loss/regularization_loss': 0.15251164,\n",
      " 'Loss/total_loss': 0.29096574,\n",
      " 'learning_rate': 0.069333196}\n",
      "I0117 20:19:09.067674 4655971840 model_lib_v2.py:708] {'Loss/classification_loss': 0.089873515,\n",
      " 'Loss/localization_loss': 0.048580598,\n",
      " 'Loss/regularization_loss': 0.15251164,\n",
      " 'Loss/total_loss': 0.29096574,\n",
      " 'learning_rate': 0.069333196}\n",
      "INFO:tensorflow:Step 900 per-step time 1.088s\n",
      "I0117 20:20:57.868196 4655971840 model_lib_v2.py:705] Step 900 per-step time 1.088s\n",
      "INFO:tensorflow:{'Loss/classification_loss': 0.0971312,\n",
      " 'Loss/localization_loss': 0.037489578,\n",
      " 'Loss/regularization_loss': 0.15197445,\n",
      " 'Loss/total_loss': 0.28659523,\n",
      " 'learning_rate': 0.074666604}\n",
      "I0117 20:20:57.869149 4655971840 model_lib_v2.py:708] {'Loss/classification_loss': 0.0971312,\n",
      " 'Loss/localization_loss': 0.037489578,\n",
      " 'Loss/regularization_loss': 0.15197445,\n",
      " 'Loss/total_loss': 0.28659523,\n",
      " 'learning_rate': 0.074666604}\n",
      "INFO:tensorflow:Step 1000 per-step time 1.030s\n",
      "I0117 20:22:40.908214 4655971840 model_lib_v2.py:705] Step 1000 per-step time 1.030s\n",
      "INFO:tensorflow:{'Loss/classification_loss': 0.14523652,\n",
      " 'Loss/localization_loss': 0.05659919,\n",
      " 'Loss/regularization_loss': 0.15145504,\n",
      " 'Loss/total_loss': 0.35329077,\n",
      " 'learning_rate': 0.08}\n",
      "I0117 20:22:40.908465 4655971840 model_lib_v2.py:708] {'Loss/classification_loss': 0.14523652,\n",
      " 'Loss/localization_loss': 0.05659919,\n",
      " 'Loss/regularization_loss': 0.15145504,\n",
      " 'Loss/total_loss': 0.35329077,\n",
      " 'learning_rate': 0.08}\n",
      "INFO:tensorflow:Step 1100 per-step time 0.981s\n",
      "I0117 20:24:18.961327 4655971840 model_lib_v2.py:705] Step 1100 per-step time 0.981s\n",
      "INFO:tensorflow:{'Loss/classification_loss': 0.09247133,\n",
      " 'Loss/localization_loss': 0.07363662,\n",
      " 'Loss/regularization_loss': 0.15087737,\n",
      " 'Loss/total_loss': 0.3169853,\n",
      " 'learning_rate': 0.07999918}\n",
      "I0117 20:24:18.964741 4655971840 model_lib_v2.py:708] {'Loss/classification_loss': 0.09247133,\n",
      " 'Loss/localization_loss': 0.07363662,\n",
      " 'Loss/regularization_loss': 0.15087737,\n",
      " 'Loss/total_loss': 0.3169853,\n",
      " 'learning_rate': 0.07999918}\n",
      "INFO:tensorflow:Step 1200 per-step time 0.958s\n",
      "I0117 20:25:54.760730 4655971840 model_lib_v2.py:705] Step 1200 per-step time 0.958s\n",
      "INFO:tensorflow:{'Loss/classification_loss': 0.10300012,\n",
      " 'Loss/localization_loss': 0.09329132,\n",
      " 'Loss/regularization_loss': 0.15038928,\n",
      " 'Loss/total_loss': 0.34668073,\n",
      " 'learning_rate': 0.079996705}\n",
      "I0117 20:25:54.762342 4655971840 model_lib_v2.py:708] {'Loss/classification_loss': 0.10300012,\n",
      " 'Loss/localization_loss': 0.09329132,\n",
      " 'Loss/regularization_loss': 0.15038928,\n",
      " 'Loss/total_loss': 0.34668073,\n",
      " 'learning_rate': 0.079996705}\n",
      "INFO:tensorflow:Step 1300 per-step time 0.965s\n",
      "I0117 20:27:31.275817 4655971840 model_lib_v2.py:705] Step 1300 per-step time 0.965s\n",
      "INFO:tensorflow:{'Loss/classification_loss': 0.09318074,\n",
      " 'Loss/localization_loss': 0.038307693,\n",
      " 'Loss/regularization_loss': 0.1496747,\n",
      " 'Loss/total_loss': 0.28116313,\n",
      " 'learning_rate': 0.0799926}\n",
      "I0117 20:27:31.276111 4655971840 model_lib_v2.py:708] {'Loss/classification_loss': 0.09318074,\n",
      " 'Loss/localization_loss': 0.038307693,\n",
      " 'Loss/regularization_loss': 0.1496747,\n",
      " 'Loss/total_loss': 0.28116313,\n",
      " 'learning_rate': 0.0799926}\n"
     ]
    },
    {
     "name": "stdout",
     "output_type": "stream",
     "text": [
      "INFO:tensorflow:Step 1400 per-step time 6.460s\n",
      "I0117 20:38:17.243866 4655971840 model_lib_v2.py:705] Step 1400 per-step time 6.460s\n",
      "INFO:tensorflow:{'Loss/classification_loss': 0.050031457,\n",
      " 'Loss/localization_loss': 0.02356124,\n",
      " 'Loss/regularization_loss': 0.14907701,\n",
      " 'Loss/total_loss': 0.2226697,\n",
      " 'learning_rate': 0.07998685}\n",
      "I0117 20:38:17.244251 4655971840 model_lib_v2.py:708] {'Loss/classification_loss': 0.050031457,\n",
      " 'Loss/localization_loss': 0.02356124,\n",
      " 'Loss/regularization_loss': 0.14907701,\n",
      " 'Loss/total_loss': 0.2226697,\n",
      " 'learning_rate': 0.07998685}\n",
      "INFO:tensorflow:Step 1500 per-step time 0.904s\n",
      "I0117 20:39:47.667149 4655971840 model_lib_v2.py:705] Step 1500 per-step time 0.904s\n",
      "INFO:tensorflow:{'Loss/classification_loss': 0.09511367,\n",
      " 'Loss/localization_loss': 0.07926856,\n",
      " 'Loss/regularization_loss': 0.1487721,\n",
      " 'Loss/total_loss': 0.32315433,\n",
      " 'learning_rate': 0.07997945}\n",
      "I0117 20:39:47.668292 4655971840 model_lib_v2.py:708] {'Loss/classification_loss': 0.09511367,\n",
      " 'Loss/localization_loss': 0.07926856,\n",
      " 'Loss/regularization_loss': 0.1487721,\n",
      " 'Loss/total_loss': 0.32315433,\n",
      " 'learning_rate': 0.07997945}\n",
      "INFO:tensorflow:Step 1600 per-step time 0.968s\n",
      "I0117 20:41:24.478733 4655971840 model_lib_v2.py:705] Step 1600 per-step time 0.968s\n",
      "INFO:tensorflow:{'Loss/classification_loss': 0.054578222,\n",
      " 'Loss/localization_loss': 0.028644204,\n",
      " 'Loss/regularization_loss': 0.14826678,\n",
      " 'Loss/total_loss': 0.23148921,\n",
      " 'learning_rate': 0.079970405}\n",
      "I0117 20:41:24.478985 4655971840 model_lib_v2.py:708] {'Loss/classification_loss': 0.054578222,\n",
      " 'Loss/localization_loss': 0.028644204,\n",
      " 'Loss/regularization_loss': 0.14826678,\n",
      " 'Loss/total_loss': 0.23148921,\n",
      " 'learning_rate': 0.079970405}\n",
      "INFO:tensorflow:Step 1700 per-step time 0.967s\n",
      "I0117 20:43:01.153869 4655971840 model_lib_v2.py:705] Step 1700 per-step time 0.967s\n",
      "INFO:tensorflow:{'Loss/classification_loss': 0.111252636,\n",
      " 'Loss/localization_loss': 0.04718157,\n",
      " 'Loss/regularization_loss': 0.1475362,\n",
      " 'Loss/total_loss': 0.30597043,\n",
      " 'learning_rate': 0.07995972}\n",
      "I0117 20:43:01.154799 4655971840 model_lib_v2.py:708] {'Loss/classification_loss': 0.111252636,\n",
      " 'Loss/localization_loss': 0.04718157,\n",
      " 'Loss/regularization_loss': 0.1475362,\n",
      " 'Loss/total_loss': 0.30597043,\n",
      " 'learning_rate': 0.07995972}\n",
      "INFO:tensorflow:Step 1800 per-step time 0.967s\n",
      "I0117 20:44:37.864179 4655971840 model_lib_v2.py:705] Step 1800 per-step time 0.967s\n",
      "INFO:tensorflow:{'Loss/classification_loss': 0.12690291,\n",
      " 'Loss/localization_loss': 0.019374175,\n",
      " 'Loss/regularization_loss': 0.14680175,\n",
      " 'Loss/total_loss': 0.29307884,\n",
      " 'learning_rate': 0.0799474}\n",
      "I0117 20:44:37.864496 4655971840 model_lib_v2.py:708] {'Loss/classification_loss': 0.12690291,\n",
      " 'Loss/localization_loss': 0.019374175,\n",
      " 'Loss/regularization_loss': 0.14680175,\n",
      " 'Loss/total_loss': 0.29307884,\n",
      " 'learning_rate': 0.0799474}\n",
      "INFO:tensorflow:Step 1900 per-step time 0.998s\n",
      "I0117 20:46:17.630514 4655971840 model_lib_v2.py:705] Step 1900 per-step time 0.998s\n",
      "INFO:tensorflow:{'Loss/classification_loss': 0.062696084,\n",
      " 'Loss/localization_loss': 0.02233978,\n",
      " 'Loss/regularization_loss': 0.14608958,\n",
      " 'Loss/total_loss': 0.23112544,\n",
      " 'learning_rate': 0.07993342}\n",
      "I0117 20:46:17.630768 4655971840 model_lib_v2.py:708] {'Loss/classification_loss': 0.062696084,\n",
      " 'Loss/localization_loss': 0.02233978,\n",
      " 'Loss/regularization_loss': 0.14608958,\n",
      " 'Loss/total_loss': 0.23112544,\n",
      " 'learning_rate': 0.07993342}\n",
      "INFO:tensorflow:Step 2000 per-step time 19.520s\n",
      "I0117 21:18:49.642466 4655971840 model_lib_v2.py:705] Step 2000 per-step time 19.520s\n",
      "INFO:tensorflow:{'Loss/classification_loss': 0.038264606,\n",
      " 'Loss/localization_loss': 0.042398453,\n",
      " 'Loss/regularization_loss': 0.14534682,\n",
      " 'Loss/total_loss': 0.22600988,\n",
      " 'learning_rate': 0.07991781}\n",
      "I0117 21:18:49.643205 4655971840 model_lib_v2.py:708] {'Loss/classification_loss': 0.038264606,\n",
      " 'Loss/localization_loss': 0.042398453,\n",
      " 'Loss/regularization_loss': 0.14534682,\n",
      " 'Loss/total_loss': 0.22600988,\n",
      " 'learning_rate': 0.07991781}\n"
     ]
    }
   ],
   "source": [
    "!{command}"
   ]
  },
  {
   "cell_type": "markdown",
   "metadata": {
    "id": "4_YRZu7npfDH"
   },
   "source": [
    "# 7. Evaluate the Model"
   ]
  },
  {
   "cell_type": "code",
   "execution_count": 59,
   "metadata": {
    "id": "80L7-fdPpfDH"
   },
   "outputs": [],
   "source": [
    "command = \"python {} --model_dir={} --pipeline_config_path={} --checkpoint_dir={}\".format(TRAINING_SCRIPT, paths['CHECKPOINT_PATH'],files['PIPELINE_CONFIG'], paths['CHECKPOINT_PATH'])"
   ]
  },
  {
   "cell_type": "code",
   "execution_count": 60,
   "metadata": {
    "colab": {
     "base_uri": "https://localhost:8080/"
    },
    "id": "lYsgEPx9pfDH",
    "outputId": "8632d48b-91d2-45d9-bcb8-c1b172bf6eed"
   },
   "outputs": [
    {
     "name": "stdout",
     "output_type": "stream",
     "text": [
      "python Tensorflow/models/research/object_detection/model_main_tf2.py --model_dir=Tensorflow/workspace/models/my_ssd_mobnet --pipeline_config_path=Tensorflow/workspace/models/my_ssd_mobnet/pipeline.config --checkpoint_dir=Tensorflow/workspace/models/my_ssd_mobnet\n"
     ]
    }
   ],
   "source": [
    "print(command)"
   ]
  },
  {
   "cell_type": "code",
   "execution_count": 63,
   "metadata": {
    "id": "lqTV2jGBpfDH"
   },
   "outputs": [
    {
     "name": "stdout",
     "output_type": "stream",
     "text": [
      "2023-01-18 16:24:57.800206: I tensorflow/core/platform/cpu_feature_guard.cc:193] This TensorFlow binary is optimized with oneAPI Deep Neural Network Library (oneDNN) to use the following CPU instructions in performance-critical operations:  AVX2 FMA\n",
      "To enable them in other operations, rebuild TensorFlow with the appropriate compiler flags.\n",
      "WARNING:tensorflow:Forced number of epochs for all eval validations to be 1.\n",
      "W0118 16:25:08.396494 4523634176 model_lib_v2.py:1089] Forced number of epochs for all eval validations to be 1.\n",
      "INFO:tensorflow:Maybe overwriting sample_1_of_n_eval_examples: None\n",
      "I0118 16:25:08.396671 4523634176 config_util.py:552] Maybe overwriting sample_1_of_n_eval_examples: None\n",
      "INFO:tensorflow:Maybe overwriting use_bfloat16: False\n",
      "I0118 16:25:08.396734 4523634176 config_util.py:552] Maybe overwriting use_bfloat16: False\n",
      "INFO:tensorflow:Maybe overwriting eval_num_epochs: 1\n",
      "I0118 16:25:08.396793 4523634176 config_util.py:552] Maybe overwriting eval_num_epochs: 1\n",
      "WARNING:tensorflow:Expected number of evaluation epochs is 1, but instead encountered `eval_on_train_input_config.num_epochs` = 0. Overwriting `num_epochs` to 1.\n",
      "W0118 16:25:08.396890 4523634176 model_lib_v2.py:1106] Expected number of evaluation epochs is 1, but instead encountered `eval_on_train_input_config.num_epochs` = 0. Overwriting `num_epochs` to 1.\n",
      "2023-01-18 16:25:08.409346: I tensorflow/core/platform/cpu_feature_guard.cc:193] This TensorFlow binary is optimized with oneAPI Deep Neural Network Library (oneDNN) to use the following CPU instructions in performance-critical operations:  AVX2 FMA\n",
      "To enable them in other operations, rebuild TensorFlow with the appropriate compiler flags.\n",
      "INFO:tensorflow:Reading unweighted datasets: ['Tensorflow/workspace/annotations/test.record']\n",
      "I0118 16:25:08.511678 4523634176 dataset_builder.py:162] Reading unweighted datasets: ['Tensorflow/workspace/annotations/test.record']\n",
      "INFO:tensorflow:Reading record datasets for input file: ['Tensorflow/workspace/annotations/test.record']\n",
      "I0118 16:25:08.512259 4523634176 dataset_builder.py:79] Reading record datasets for input file: ['Tensorflow/workspace/annotations/test.record']\n",
      "INFO:tensorflow:Number of filenames to read: 1\n",
      "I0118 16:25:08.512338 4523634176 dataset_builder.py:80] Number of filenames to read: 1\n",
      "WARNING:tensorflow:num_readers has been reduced to 1 to match input file shards.\n",
      "W0118 16:25:08.512394 4523634176 dataset_builder.py:86] num_readers has been reduced to 1 to match input file shards.\n",
      "WARNING:tensorflow:From /Users/rogerfinnerty/Desktop/TensorFlowObjectDetection/TFODCourse/tfod/lib/python3.9/site-packages/object_detection/builders/dataset_builder.py:100: parallel_interleave (from tensorflow.python.data.experimental.ops.interleave_ops) is deprecated and will be removed in a future version.\n",
      "Instructions for updating:\n",
      "Use `tf.data.Dataset.interleave(map_func, cycle_length, block_length, num_parallel_calls=tf.data.AUTOTUNE)` instead. If sloppy execution is desired, use `tf.data.Options.deterministic`.\n",
      "W0118 16:25:08.521224 4523634176 deprecation.py:350] From /Users/rogerfinnerty/Desktop/TensorFlowObjectDetection/TFODCourse/tfod/lib/python3.9/site-packages/object_detection/builders/dataset_builder.py:100: parallel_interleave (from tensorflow.python.data.experimental.ops.interleave_ops) is deprecated and will be removed in a future version.\n",
      "Instructions for updating:\n",
      "Use `tf.data.Dataset.interleave(map_func, cycle_length, block_length, num_parallel_calls=tf.data.AUTOTUNE)` instead. If sloppy execution is desired, use `tf.data.Options.deterministic`.\n",
      "WARNING:tensorflow:From /Users/rogerfinnerty/Desktop/TensorFlowObjectDetection/TFODCourse/tfod/lib/python3.9/site-packages/object_detection/builders/dataset_builder.py:235: DatasetV1.map_with_legacy_function (from tensorflow.python.data.ops.dataset_ops) is deprecated and will be removed in a future version.\n",
      "Instructions for updating:\n",
      "Use `tf.data.Dataset.map()\n",
      "W0118 16:25:08.552197 4523634176 deprecation.py:350] From /Users/rogerfinnerty/Desktop/TensorFlowObjectDetection/TFODCourse/tfod/lib/python3.9/site-packages/object_detection/builders/dataset_builder.py:235: DatasetV1.map_with_legacy_function (from tensorflow.python.data.ops.dataset_ops) is deprecated and will be removed in a future version.\n",
      "Instructions for updating:\n",
      "Use `tf.data.Dataset.map()\n",
      "WARNING:tensorflow:From /Users/rogerfinnerty/Desktop/TensorFlowObjectDetection/TFODCourse/tfod/lib/python3.9/site-packages/tensorflow/python/autograph/pyct/static_analysis/liveness.py:83: Analyzer.lamba_check (from tensorflow.python.autograph.pyct.static_analysis.liveness) is deprecated and will be removed after 2023-09-23.\n",
      "Instructions for updating:\n",
      "Lambda fuctions will be no more assumed to be used in the statement where they are used, or at least in the same block. https://github.com/tensorflow/tensorflow/issues/56089\n",
      "W0118 16:25:09.117239 4523634176 deprecation.py:350] From /Users/rogerfinnerty/Desktop/TensorFlowObjectDetection/TFODCourse/tfod/lib/python3.9/site-packages/tensorflow/python/autograph/pyct/static_analysis/liveness.py:83: Analyzer.lamba_check (from tensorflow.python.autograph.pyct.static_analysis.liveness) is deprecated and will be removed after 2023-09-23.\n",
      "Instructions for updating:\n",
      "Lambda fuctions will be no more assumed to be used in the statement where they are used, or at least in the same block. https://github.com/tensorflow/tensorflow/issues/56089\n",
      "WARNING:tensorflow:From /Users/rogerfinnerty/Desktop/TensorFlowObjectDetection/TFODCourse/tfod/lib/python3.9/site-packages/tensorflow/python/util/dispatch.py:1176: sparse_to_dense (from tensorflow.python.ops.sparse_ops) is deprecated and will be removed in a future version.\n",
      "Instructions for updating:\n",
      "Create a `tf.sparse.SparseTensor` and use `tf.sparse.to_dense` instead.\n",
      "W0118 16:25:12.282040 4523634176 deprecation.py:350] From /Users/rogerfinnerty/Desktop/TensorFlowObjectDetection/TFODCourse/tfod/lib/python3.9/site-packages/tensorflow/python/util/dispatch.py:1176: sparse_to_dense (from tensorflow.python.ops.sparse_ops) is deprecated and will be removed in a future version.\n",
      "Instructions for updating:\n",
      "Create a `tf.sparse.SparseTensor` and use `tf.sparse.to_dense` instead.\n",
      "WARNING:tensorflow:From /Users/rogerfinnerty/Desktop/TensorFlowObjectDetection/TFODCourse/tfod/lib/python3.9/site-packages/tensorflow/python/util/dispatch.py:1176: to_float (from tensorflow.python.ops.math_ops) is deprecated and will be removed in a future version.\n",
      "Instructions for updating:\n",
      "Use `tf.cast` instead.\n",
      "W0118 16:25:13.172040 4523634176 deprecation.py:350] From /Users/rogerfinnerty/Desktop/TensorFlowObjectDetection/TFODCourse/tfod/lib/python3.9/site-packages/tensorflow/python/util/dispatch.py:1176: to_float (from tensorflow.python.ops.math_ops) is deprecated and will be removed in a future version.\n",
      "Instructions for updating:\n",
      "Use `tf.cast` instead.\n",
      "INFO:tensorflow:Waiting for new checkpoint at Tensorflow/workspace/models/my_ssd_mobnet\n",
      "I0118 16:25:15.589225 4523634176 checkpoint_utils.py:140] Waiting for new checkpoint at Tensorflow/workspace/models/my_ssd_mobnet\n",
      "INFO:tensorflow:Found new checkpoint at Tensorflow/workspace/models/my_ssd_mobnet/ckpt-4\n",
      "I0118 16:25:15.590180 4523634176 checkpoint_utils.py:149] Found new checkpoint at Tensorflow/workspace/models/my_ssd_mobnet/ckpt-4\n",
      "/Users/rogerfinnerty/Desktop/TensorFlowObjectDetection/TFODCourse/tfod/lib/python3.9/site-packages/keras/backend.py:451: UserWarning: `tf.keras.backend.set_learning_phase` is deprecated and will be removed after 2020-10-11. To update it, simply pass a True/False value to the `training` argument of the `__call__` method of your layer or model.\n",
      "  warnings.warn(\n",
      "WARNING:tensorflow:From /Users/rogerfinnerty/Desktop/TensorFlowObjectDetection/TFODCourse/tfod/lib/python3.9/site-packages/tensorflow/python/util/dispatch.py:1176: to_int64 (from tensorflow.python.ops.math_ops) is deprecated and will be removed in a future version.\n",
      "Instructions for updating:\n",
      "Use `tf.cast` instead.\n",
      "W0118 16:25:36.406542 4523634176 deprecation.py:350] From /Users/rogerfinnerty/Desktop/TensorFlowObjectDetection/TFODCourse/tfod/lib/python3.9/site-packages/tensorflow/python/util/dispatch.py:1176: to_int64 (from tensorflow.python.ops.math_ops) is deprecated and will be removed in a future version.\n",
      "Instructions for updating:\n",
      "Use `tf.cast` instead.\n",
      "INFO:tensorflow:Finished eval step 0\n",
      "I0118 16:25:36.425042 4523634176 model_lib_v2.py:966] Finished eval step 0\n"
     ]
    },
    {
     "name": "stdout",
     "output_type": "stream",
     "text": [
      "WARNING:tensorflow:From /Users/rogerfinnerty/Desktop/TensorFlowObjectDetection/TFODCourse/tfod/lib/python3.9/site-packages/tensorflow/python/autograph/impl/api.py:459: py_func (from tensorflow.python.ops.script_ops) is deprecated and will be removed in a future version.\n",
      "Instructions for updating:\n",
      "tf.py_func is deprecated in TF V2. Instead, there are two\n",
      "    options available in V2.\n",
      "    - tf.py_function takes a python function which manipulates tf eager\n",
      "    tensors instead of numpy arrays. It's easy to convert a tf eager tensor to\n",
      "    an ndarray (just call tensor.numpy()) but having access to eager tensors\n",
      "    means `tf.py_function`s can use accelerators such as GPUs as well as\n",
      "    being differentiable using a gradient tape.\n",
      "    - tf.numpy_function maintains the semantics of the deprecated tf.py_func\n",
      "    (it is not differentiable, and manipulates numpy arrays). It drops the\n",
      "    stateful argument making all functions stateful.\n",
      "    \n",
      "W0118 16:25:36.643002 4523634176 deprecation.py:350] From /Users/rogerfinnerty/Desktop/TensorFlowObjectDetection/TFODCourse/tfod/lib/python3.9/site-packages/tensorflow/python/autograph/impl/api.py:459: py_func (from tensorflow.python.ops.script_ops) is deprecated and will be removed in a future version.\n",
      "Instructions for updating:\n",
      "tf.py_func is deprecated in TF V2. Instead, there are two\n",
      "    options available in V2.\n",
      "    - tf.py_function takes a python function which manipulates tf eager\n",
      "    tensors instead of numpy arrays. It's easy to convert a tf eager tensor to\n",
      "    an ndarray (just call tensor.numpy()) but having access to eager tensors\n",
      "    means `tf.py_function`s can use accelerators such as GPUs as well as\n",
      "    being differentiable using a gradient tape.\n",
      "    - tf.numpy_function maintains the semantics of the deprecated tf.py_func\n",
      "    (it is not differentiable, and manipulates numpy arrays). It drops the\n",
      "    stateful argument making all functions stateful.\n",
      "    \n",
      "INFO:tensorflow:Performing evaluation on 4 images.\n",
      "I0118 16:25:37.399001 4523634176 coco_evaluation.py:293] Performing evaluation on 4 images.\n",
      "creating index...\n",
      "index created!\n",
      "INFO:tensorflow:Loading and preparing annotation results...\n",
      "I0118 16:25:37.399185 4523634176 coco_tools.py:116] Loading and preparing annotation results...\n",
      "INFO:tensorflow:DONE (t=0.00s)\n",
      "I0118 16:25:37.399456 4523634176 coco_tools.py:138] DONE (t=0.00s)\n",
      "creating index...\n",
      "index created!\n",
      "Running per image evaluation...\n",
      "Evaluate annotation type *bbox*\n",
      "DONE (t=0.01s).\n",
      "Accumulating evaluation results...\n",
      "DONE (t=0.03s).\n",
      " Average Precision  (AP) @[ IoU=0.50:0.95 | area=   all | maxDets=100 ] = 0.625\n",
      " Average Precision  (AP) @[ IoU=0.50      | area=   all | maxDets=100 ] = 1.000\n",
      " Average Precision  (AP) @[ IoU=0.75      | area=   all | maxDets=100 ] = 0.750\n",
      " Average Precision  (AP) @[ IoU=0.50:0.95 | area= small | maxDets=100 ] = -1.000\n",
      " Average Precision  (AP) @[ IoU=0.50:0.95 | area=medium | maxDets=100 ] = -1.000\n",
      " Average Precision  (AP) @[ IoU=0.50:0.95 | area= large | maxDets=100 ] = 0.625\n",
      " Average Recall     (AR) @[ IoU=0.50:0.95 | area=   all | maxDets=  1 ] = 0.625\n",
      " Average Recall     (AR) @[ IoU=0.50:0.95 | area=   all | maxDets= 10 ] = 0.625\n",
      " Average Recall     (AR) @[ IoU=0.50:0.95 | area=   all | maxDets=100 ] = 0.625\n",
      " Average Recall     (AR) @[ IoU=0.50:0.95 | area= small | maxDets=100 ] = -1.000\n",
      " Average Recall     (AR) @[ IoU=0.50:0.95 | area=medium | maxDets=100 ] = -1.000\n",
      " Average Recall     (AR) @[ IoU=0.50:0.95 | area= large | maxDets=100 ] = 0.625\n",
      "INFO:tensorflow:Eval metrics at step 2000\n",
      "I0118 16:25:37.447932 4523634176 model_lib_v2.py:1015] Eval metrics at step 2000\n",
      "INFO:tensorflow:\t+ DetectionBoxes_Precision/mAP: 0.625000\n",
      "I0118 16:25:37.451874 4523634176 model_lib_v2.py:1018] \t+ DetectionBoxes_Precision/mAP: 0.625000\n",
      "INFO:tensorflow:\t+ DetectionBoxes_Precision/mAP@.50IOU: 1.000000\n",
      "I0118 16:25:37.452580 4523634176 model_lib_v2.py:1018] \t+ DetectionBoxes_Precision/mAP@.50IOU: 1.000000\n",
      "INFO:tensorflow:\t+ DetectionBoxes_Precision/mAP@.75IOU: 0.750000\n",
      "I0118 16:25:37.453230 4523634176 model_lib_v2.py:1018] \t+ DetectionBoxes_Precision/mAP@.75IOU: 0.750000\n",
      "INFO:tensorflow:\t+ DetectionBoxes_Precision/mAP (small): -1.000000\n",
      "I0118 16:25:37.453882 4523634176 model_lib_v2.py:1018] \t+ DetectionBoxes_Precision/mAP (small): -1.000000\n",
      "INFO:tensorflow:\t+ DetectionBoxes_Precision/mAP (medium): -1.000000\n",
      "I0118 16:25:37.454505 4523634176 model_lib_v2.py:1018] \t+ DetectionBoxes_Precision/mAP (medium): -1.000000\n",
      "INFO:tensorflow:\t+ DetectionBoxes_Precision/mAP (large): 0.625000\n",
      "I0118 16:25:37.455102 4523634176 model_lib_v2.py:1018] \t+ DetectionBoxes_Precision/mAP (large): 0.625000\n",
      "INFO:tensorflow:\t+ DetectionBoxes_Recall/AR@1: 0.625000\n",
      "I0118 16:25:37.459090 4523634176 model_lib_v2.py:1018] \t+ DetectionBoxes_Recall/AR@1: 0.625000\n",
      "INFO:tensorflow:\t+ DetectionBoxes_Recall/AR@10: 0.625000\n",
      "I0118 16:25:37.459798 4523634176 model_lib_v2.py:1018] \t+ DetectionBoxes_Recall/AR@10: 0.625000\n",
      "INFO:tensorflow:\t+ DetectionBoxes_Recall/AR@100: 0.625000\n",
      "I0118 16:25:37.460385 4523634176 model_lib_v2.py:1018] \t+ DetectionBoxes_Recall/AR@100: 0.625000\n",
      "INFO:tensorflow:\t+ DetectionBoxes_Recall/AR@100 (small): -1.000000\n",
      "I0118 16:25:37.460961 4523634176 model_lib_v2.py:1018] \t+ DetectionBoxes_Recall/AR@100 (small): -1.000000\n",
      "INFO:tensorflow:\t+ DetectionBoxes_Recall/AR@100 (medium): -1.000000\n",
      "I0118 16:25:37.461568 4523634176 model_lib_v2.py:1018] \t+ DetectionBoxes_Recall/AR@100 (medium): -1.000000\n",
      "INFO:tensorflow:\t+ DetectionBoxes_Recall/AR@100 (large): 0.625000\n",
      "I0118 16:25:37.462162 4523634176 model_lib_v2.py:1018] \t+ DetectionBoxes_Recall/AR@100 (large): 0.625000\n",
      "INFO:tensorflow:\t+ Loss/localization_loss: 0.178018\n",
      "I0118 16:25:37.462681 4523634176 model_lib_v2.py:1018] \t+ Loss/localization_loss: 0.178018\n",
      "INFO:tensorflow:\t+ Loss/classification_loss: 0.161720\n",
      "I0118 16:25:37.463207 4523634176 model_lib_v2.py:1018] \t+ Loss/classification_loss: 0.161720\n",
      "INFO:tensorflow:\t+ Loss/regularization_loss: 0.145339\n",
      "I0118 16:25:37.463731 4523634176 model_lib_v2.py:1018] \t+ Loss/regularization_loss: 0.145339\n",
      "INFO:tensorflow:\t+ Loss/total_loss: 0.485078\n",
      "I0118 16:25:37.464240 4523634176 model_lib_v2.py:1018] \t+ Loss/total_loss: 0.485078\n",
      "INFO:tensorflow:Waiting for new checkpoint at Tensorflow/workspace/models/my_ssd_mobnet\n",
      "I0118 16:30:15.596954 4523634176 checkpoint_utils.py:140] Waiting for new checkpoint at Tensorflow/workspace/models/my_ssd_mobnet\n",
      "^C\n",
      "Traceback (most recent call last):\n",
      "  File \"/Users/rogerfinnerty/Desktop/TensorFlowObjectDetection/TFODCourse/Tensorflow/models/research/object_detection/model_main_tf2.py\", line 114, in <module>\n",
      "    tf.compat.v1.app.run()\n",
      "  File \"/Users/rogerfinnerty/Desktop/TensorFlowObjectDetection/TFODCourse/tfod/lib/python3.9/site-packages/tensorflow/python/platform/app.py\", line 36, in run\n",
      "    _run(main=main, argv=argv, flags_parser=_parse_flags_tolerate_undef)\n",
      "  File \"/Users/rogerfinnerty/Desktop/TensorFlowObjectDetection/TFODCourse/tfod/lib/python3.9/site-packages/absl/app.py\", line 308, in run\n",
      "    _run_main(main, args)\n",
      "  File \"/Users/rogerfinnerty/Desktop/TensorFlowObjectDetection/TFODCourse/tfod/lib/python3.9/site-packages/absl/app.py\", line 254, in _run_main\n",
      "    sys.exit(main(argv))\n",
      "  File \"/Users/rogerfinnerty/Desktop/TensorFlowObjectDetection/TFODCourse/Tensorflow/models/research/object_detection/model_main_tf2.py\", line 81, in main\n",
      "    model_lib_v2.eval_continuously(\n",
      "  File \"/Users/rogerfinnerty/Desktop/TensorFlowObjectDetection/TFODCourse/tfod/lib/python3.9/site-packages/object_detection/model_lib_v2.py\", line 1135, in eval_continuously\n",
      "    for latest_checkpoint in tf.train.checkpoints_iterator(\n",
      "  File \"/Users/rogerfinnerty/Desktop/TensorFlowObjectDetection/TFODCourse/tfod/lib/python3.9/site-packages/tensorflow/python/training/checkpoint_utils.py\", line 198, in checkpoints_iterator\n",
      "    new_checkpoint_path = wait_for_new_checkpoint(\n",
      "  File \"/Users/rogerfinnerty/Desktop/TensorFlowObjectDetection/TFODCourse/tfod/lib/python3.9/site-packages/tensorflow/python/training/checkpoint_utils.py\", line 147, in wait_for_new_checkpoint\n",
      "    time.sleep(seconds_to_sleep)\n",
      "KeyboardInterrupt\n"
     ]
    }
   ],
   "source": [
    "!{command}"
   ]
  },
  {
   "cell_type": "markdown",
   "metadata": {
    "id": "orvRk02UpfDI"
   },
   "source": [
    "# 8. Load Train Model From Checkpoint"
   ]
  },
  {
   "cell_type": "code",
   "execution_count": 65,
   "metadata": {
    "id": "8TYk4_oIpfDI"
   },
   "outputs": [],
   "source": [
    "import os\n",
    "import tensorflow as tf\n",
    "from object_detection.utils import label_map_util\n",
    "from object_detection.utils import visualization_utils as viz_utils\n",
    "from object_detection.builders import model_builder\n",
    "from object_detection.utils import config_util"
   ]
  },
  {
   "cell_type": "code",
   "execution_count": 66,
   "metadata": {
    "id": "tDnQg-cYpfDI"
   },
   "outputs": [
    {
     "name": "stderr",
     "output_type": "stream",
     "text": [
      "2023-01-18 16:47:23.145517: I tensorflow/core/platform/cpu_feature_guard.cc:193] This TensorFlow binary is optimized with oneAPI Deep Neural Network Library (oneDNN) to use the following CPU instructions in performance-critical operations:  AVX2 FMA\n",
      "To enable them in other operations, rebuild TensorFlow with the appropriate compiler flags.\n"
     ]
    }
   ],
   "source": [
    "# Load pipeline config and build a detection model\n",
    "configs = config_util.get_configs_from_pipeline_file(files['PIPELINE_CONFIG'])\n",
    "detection_model = model_builder.build(model_config=configs['model'], is_training=False)\n",
    "\n",
    "# Restore checkpoint\n",
    "ckpt = tf.compat.v2.train.Checkpoint(model=detection_model)\n",
    "ckpt.restore(os.path.join(paths['CHECKPOINT_PATH'], 'ckpt-4')).expect_partial()\n",
    "\n",
    "@tf.function\n",
    "def detect_fn(image):\n",
    "    image, shapes = detection_model.preprocess(image)\n",
    "    prediction_dict = detection_model.predict(image, shapes)\n",
    "    detections = detection_model.postprocess(prediction_dict, shapes)\n",
    "    return detections"
   ]
  },
  {
   "cell_type": "markdown",
   "metadata": {
    "id": "0EmsmbBZpfDI"
   },
   "source": [
    "# 9. Detect from an Image"
   ]
  },
  {
   "cell_type": "code",
   "execution_count": 67,
   "metadata": {
    "id": "Y_MKiuZ4pfDI"
   },
   "outputs": [],
   "source": [
    "import cv2 \n",
    "import numpy as np\n",
    "from matplotlib import pyplot as plt\n",
    "%matplotlib inline"
   ]
  },
  {
   "cell_type": "code",
   "execution_count": 68,
   "metadata": {
    "id": "cBDbIhNapfDI"
   },
   "outputs": [],
   "source": [
    "category_index = label_map_util.create_category_index_from_labelmap(files['LABELMAP'])"
   ]
  },
  {
   "cell_type": "code",
   "execution_count": 74,
   "metadata": {
    "id": "Lx3crOhOzITB"
   },
   "outputs": [],
   "source": [
    "IMAGE_PATH = os.path.join(paths['IMAGE_PATH'], 'test', 'thankyou.c5054512-9365-11ed-b214-a683e7b1063f.jpg')"
   ]
  },
  {
   "cell_type": "code",
   "execution_count": 75,
   "metadata": {},
   "outputs": [
    {
     "data": {
      "text/plain": [
       "'Tensorflow/workspace/images/test/thankyou.c5054512-9365-11ed-b214-a683e7b1063f.jpg'"
      ]
     },
     "execution_count": 75,
     "metadata": {},
     "output_type": "execute_result"
    }
   ],
   "source": [
    "IMAGE_PATH"
   ]
  },
  {
   "cell_type": "code",
   "execution_count": 76,
   "metadata": {
    "colab": {
     "base_uri": "https://localhost:8080/",
     "height": 269
    },
    "id": "Tpzn1SMry1yK",
    "outputId": "c392a2c5-10fe-4fc4-9998-a1d4c7db2bd3"
   },
   "outputs": [
    {
     "data": {
      "image/png": "[encoded data removed]",
      "text/plain": [
       "<Figure size 640x480 with 1 Axes>"
      ]
     },
     "metadata": {},
     "output_type": "display_data"
    }
   ],
   "source": [
    "img = cv2.imread(IMAGE_PATH)\n",
    "image_np = np.array(img)\n",
    "\n",
    "input_tensor = tf.convert_to_tensor(np.expand_dims(image_np, 0), dtype=tf.float32)\n",
    "detections = detect_fn(input_tensor)\n",
    "\n",
    "num_detections = int(detections.pop('num_detections'))\n",
    "detections = {key: value[0, :num_detections].numpy()\n",
    "              for key, value in detections.items()}\n",
    "detections['num_detections'] = num_detections\n",
    "\n",
    "# detection_classes should be ints.\n",
    "detections['detection_classes'] = detections['detection_classes'].astype(np.int64)\n",
    "\n",
    "label_id_offset = 1\n",
    "image_np_with_detections = image_np.copy()\n",
    "\n",
    "viz_utils.visualize_boxes_and_labels_on_image_array(\n",
    "            image_np_with_detections,\n",
    "            detections['detection_boxes'],\n",
    "            detections['detection_classes']+label_id_offset,\n",
    "            detections['detection_scores'],\n",
    "            category_index,\n",
    "            use_normalized_coordinates=True,\n",
    "            max_boxes_to_draw=5,\n",
    "            min_score_thresh=.8,\n",
    "            agnostic_mode=False)\n",
    "\n",
    "plt.imshow(cv2.cvtColor(image_np_with_detections, cv2.COLOR_BGR2RGB))\n",
    "plt.show()"
   ]
  },
  {
   "cell_type": "markdown",
   "metadata": {
    "id": "IsNAaYAo0WVL"
   },
   "source": [
    "# 10. Real Time Detections from your Webcam"
   ]
  },
  {
   "cell_type": "code",
   "execution_count": 88,
   "metadata": {},
   "outputs": [
    {
     "name": "stdout",
     "output_type": "stream",
     "text": [
      "\u001b[33mWARNING: Skipping opencv-python-headless as it is not installed.\u001b[0m\u001b[33m\r\n",
      "\u001b[0m"
     ]
    }
   ],
   "source": [
    "!pip uninstall opencv-python-headless -y"
   ]
  },
  {
   "cell_type": "code",
   "execution_count": 95,
   "metadata": {
    "id": "o_grs6OGpfDJ"
   },
   "outputs": [],
   "source": [
    "cap = cv2.VideoCapture(0)\n",
    "width = int(cap.get(cv2.CAP_PROP_FRAME_WIDTH))\n",
    "height = int(cap.get(cv2.CAP_PROP_FRAME_HEIGHT))\n",
    "\n",
    "while cap.isOpened(): \n",
    "    ret, frame = cap.read()\n",
    "    image_np = np.array(frame)q\n",
    "    \n",
    "    input_tensor = tf.convert_to_tensor(np.expand_dims(image_np, 0), dtype=tf.float32)\n",
    "    detections = detect_fn(input_tensor)\n",
    "    \n",
    "    num_detections = int(detections.pop('num_detections'))\n",
    "    detections = {key: value[0, :num_detections].numpy()\n",
    "                  for key, value in detections.items()}\n",
    "    detections['num_detections'] = num_detections\n",
    "\n",
    "    # detection_classes should be ints.\n",
    "    detections['detection_classes'] = detections['detection_classes'].astype(np.int64)\n",
    "\n",
    "    label_id_offset = 1\n",
    "    image_np_with_detections = image_np.copy()\n",
    "\n",
    "    viz_utils.visualize_boxes_and_labels_on_image_array(\n",
    "                image_np_with_detections,\n",
    "                detections['detection_boxes'],\n",
    "                detections['detection_classes']+label_id_offset,\n",
    "                detections['detection_scores'],\n",
    "                category_index,\n",
    "                use_normalized_coordinates=True,\n",
    "                max_boxes_to_draw=5,\n",
    "                min_score_thresh=.8,\n",
    "                agnostic_mode=False)\n",
    "\n",
    "    cv2.imshow('object detection',  cv2.resize(image_np_with_detections, (800, 600)))\n",
    "    \n",
    "    if cv2.waitKey(10) & 0xFF == ord('q'):\n",
    "        cap.release()\n",
    "        cv2.destroyAllWindows()\n",
    "        break"
   ]
  },
  {
   "cell_type": "markdown",
   "metadata": {
    "id": "rzlM4jt0pfDJ"
   },
   "source": [
    "# 10. Freezing the Graph"
   ]
  },
  {
   "cell_type": "code",
   "execution_count": 78,
   "metadata": {
    "id": "n4olHB2npfDJ"
   },
   "outputs": [],
   "source": [
    "FREEZE_SCRIPT = os.path.join(paths['APIMODEL_PATH'], 'research', 'object_detection', 'exporter_main_v2.py ')"
   ]
  },
  {
   "cell_type": "code",
   "execution_count": 79,
   "metadata": {
    "id": "0AjO93QDpfDJ"
   },
   "outputs": [],
   "source": [
    "command = \"python {} --input_type=image_tensor --pipeline_config_path={} --trained_checkpoint_dir={} --output_directory={}\".format(FREEZE_SCRIPT ,files['PIPELINE_CONFIG'], paths['CHECKPOINT_PATH'], paths['OUTPUT_PATH'])"
   ]
  },
  {
   "cell_type": "code",
   "execution_count": 80,
   "metadata": {
    "colab": {
     "base_uri": "https://localhost:8080/"
    },
    "id": "F6Lsp3tCpfDJ",
    "outputId": "c3828529-bf06-4df5-d7f3-145890ec3edd"
   },
   "outputs": [
    {
     "name": "stdout",
     "output_type": "stream",
     "text": [
      "python Tensorflow/models/research/object_detection/exporter_main_v2.py  --input_type=image_tensor --pipeline_config_path=Tensorflow/workspace/models/my_ssd_mobnet/pipeline.config --trained_checkpoint_dir=Tensorflow/workspace/models/my_ssd_mobnet --output_directory=Tensorflow/workspace/models/my_ssd_mobnet/export\n"
     ]
    }
   ],
   "source": [
    "print(command)"
   ]
  },
  {
   "cell_type": "code",
   "execution_count": 81,
   "metadata": {
    "colab": {
     "base_uri": "https://localhost:8080/"
    },
    "id": "1Sw1ULgHpfDJ",
    "outputId": "6fd441e1-9fc9-4889-d072-3395c21e40b6"
   },
   "outputs": [
    {
     "name": "stdout",
     "output_type": "stream",
     "text": [
      "2023-01-18 16:57:16.532741: I tensorflow/core/platform/cpu_feature_guard.cc:193] This TensorFlow binary is optimized with oneAPI Deep Neural Network Library (oneDNN) to use the following CPU instructions in performance-critical operations:  AVX2 FMA\n",
      "To enable them in other operations, rebuild TensorFlow with the appropriate compiler flags.\n",
      "2023-01-18 16:57:22.473085: I tensorflow/core/platform/cpu_feature_guard.cc:193] This TensorFlow binary is optimized with oneAPI Deep Neural Network Library (oneDNN) to use the following CPU instructions in performance-critical operations:  AVX2 FMA\n",
      "To enable them in other operations, rebuild TensorFlow with the appropriate compiler flags.\n",
      "WARNING:tensorflow:From /Users/rogerfinnerty/Desktop/TensorFlowObjectDetection/TFODCourse/tfod/lib/python3.9/site-packages/tensorflow/python/autograph/pyct/static_analysis/liveness.py:83: Analyzer.lamba_check (from tensorflow.python.autograph.pyct.static_analysis.liveness) is deprecated and will be removed after 2023-09-23.\n",
      "Instructions for updating:\n",
      "Lambda fuctions will be no more assumed to be used in the statement where they are used, or at least in the same block. https://github.com/tensorflow/tensorflow/issues/56089\n",
      "W0118 16:57:22.648288 4582956544 deprecation.py:350] From /Users/rogerfinnerty/Desktop/TensorFlowObjectDetection/TFODCourse/tfod/lib/python3.9/site-packages/tensorflow/python/autograph/pyct/static_analysis/liveness.py:83: Analyzer.lamba_check (from tensorflow.python.autograph.pyct.static_analysis.liveness) is deprecated and will be removed after 2023-09-23.\n",
      "Instructions for updating:\n",
      "Lambda fuctions will be no more assumed to be used in the statement where they are used, or at least in the same block. https://github.com/tensorflow/tensorflow/issues/56089\n",
      "WARNING:tensorflow:From /Users/rogerfinnerty/Desktop/TensorFlowObjectDetection/TFODCourse/tfod/lib/python3.9/site-packages/tensorflow/python/autograph/impl/api.py:458: calling map_fn_v2 (from tensorflow.python.ops.map_fn) with back_prop=False is deprecated and will be removed in a future version.\n",
      "Instructions for updating:\n",
      "back_prop=False is deprecated. Consider using tf.stop_gradient instead.\n",
      "Instead of:\n",
      "results = tf.map_fn(fn, elems, back_prop=False)\n",
      "Use:\n",
      "results = tf.nest.map_structure(tf.stop_gradient, tf.map_fn(fn, elems))\n",
      "W0118 16:57:22.734657 4582956544 deprecation.py:623] From /Users/rogerfinnerty/Desktop/TensorFlowObjectDetection/TFODCourse/tfod/lib/python3.9/site-packages/tensorflow/python/autograph/impl/api.py:458: calling map_fn_v2 (from tensorflow.python.ops.map_fn) with back_prop=False is deprecated and will be removed in a future version.\n",
      "Instructions for updating:\n",
      "back_prop=False is deprecated. Consider using tf.stop_gradient instead.\n",
      "Instead of:\n",
      "results = tf.map_fn(fn, elems, back_prop=False)\n",
      "Use:\n",
      "results = tf.nest.map_structure(tf.stop_gradient, tf.map_fn(fn, elems))\n",
      "WARNING:tensorflow:Skipping full serialization of Keras layer <object_detection.meta_architectures.ssd_meta_arch.SSDMetaArch object at 0x7ff244f849d0>, because it is not built.\n",
      "W0118 16:57:43.290807 4582956544 save_impl.py:66] Skipping full serialization of Keras layer <object_detection.meta_architectures.ssd_meta_arch.SSDMetaArch object at 0x7ff244f849d0>, because it is not built.\n",
      "WARNING:tensorflow:Skipping full serialization of Keras layer <keras.layers.convolutional.separable_conv2d.SeparableConv2D object at 0x7ff245a8db80>, because it is not built.\n",
      "W0118 16:57:43.555589 4582956544 save_impl.py:66] Skipping full serialization of Keras layer <keras.layers.convolutional.separable_conv2d.SeparableConv2D object at 0x7ff245a8db80>, because it is not built.\n",
      "WARNING:tensorflow:Skipping full serialization of Keras layer <object_detection.core.freezable_batch_norm.FreezableBatchNorm object at 0x7ff2476ae640>, because it is not built.\n",
      "W0118 16:57:43.555752 4582956544 save_impl.py:66] Skipping full serialization of Keras layer <object_detection.core.freezable_batch_norm.FreezableBatchNorm object at 0x7ff2476ae640>, because it is not built.\n",
      "WARNING:tensorflow:Skipping full serialization of Keras layer <keras.layers.core.lambda_layer.Lambda object at 0x7ff2476de5e0>, because it is not built.\n",
      "W0118 16:57:43.555840 4582956544 save_impl.py:66] Skipping full serialization of Keras layer <keras.layers.core.lambda_layer.Lambda object at 0x7ff2476de5e0>, because it is not built.\n",
      "WARNING:tensorflow:Skipping full serialization of Keras layer <keras.layers.convolutional.separable_conv2d.SeparableConv2D object at 0x7ff2476de070>, because it is not built.\n",
      "W0118 16:57:43.555971 4582956544 save_impl.py:66] Skipping full serialization of Keras layer <keras.layers.convolutional.separable_conv2d.SeparableConv2D object at 0x7ff2476de070>, because it is not built.\n",
      "WARNING:tensorflow:Skipping full serialization of Keras layer <object_detection.core.freezable_batch_norm.FreezableBatchNorm object at 0x7ff2476ded60>, because it is not built.\n",
      "W0118 16:57:43.556061 4582956544 save_impl.py:66] Skipping full serialization of Keras layer <object_detection.core.freezable_batch_norm.FreezableBatchNorm object at 0x7ff2476ded60>, because it is not built.\n",
      "WARNING:tensorflow:Skipping full serialization of Keras layer <keras.layers.core.lambda_layer.Lambda object at 0x7ff2476def10>, because it is not built.\n",
      "W0118 16:57:43.556128 4582956544 save_impl.py:66] Skipping full serialization of Keras layer <keras.layers.core.lambda_layer.Lambda object at 0x7ff2476def10>, because it is not built.\n",
      "WARNING:tensorflow:Skipping full serialization of Keras layer <keras.layers.convolutional.separable_conv2d.SeparableConv2D object at 0x7ff2476de820>, because it is not built.\n",
      "W0118 16:57:43.556191 4582956544 save_impl.py:66] Skipping full serialization of Keras layer <keras.layers.convolutional.separable_conv2d.SeparableConv2D object at 0x7ff2476de820>, because it is not built.\n",
      "WARNING:tensorflow:Skipping full serialization of Keras layer <object_detection.core.freezable_batch_norm.FreezableBatchNorm object at 0x7ff247668be0>, because it is not built.\n",
      "W0118 16:57:43.556252 4582956544 save_impl.py:66] Skipping full serialization of Keras layer <object_detection.core.freezable_batch_norm.FreezableBatchNorm object at 0x7ff247668be0>, because it is not built.\n",
      "WARNING:tensorflow:Skipping full serialization of Keras layer <keras.layers.core.lambda_layer.Lambda object at 0x7ff2476ef1c0>, because it is not built.\n",
      "W0118 16:57:43.556312 4582956544 save_impl.py:66] Skipping full serialization of Keras layer <keras.layers.core.lambda_layer.Lambda object at 0x7ff2476ef1c0>, because it is not built.\n",
      "WARNING:tensorflow:Skipping full serialization of Keras layer <keras.layers.convolutional.separable_conv2d.SeparableConv2D object at 0x7ff2476ef580>, because it is not built.\n",
      "W0118 16:57:43.556370 4582956544 save_impl.py:66] Skipping full serialization of Keras layer <keras.layers.convolutional.separable_conv2d.SeparableConv2D object at 0x7ff2476ef580>, because it is not built.\n",
      "WARNING:tensorflow:Skipping full serialization of Keras layer <object_detection.core.freezable_batch_norm.FreezableBatchNorm object at 0x7ff2476efee0>, because it is not built.\n",
      "W0118 16:57:43.556429 4582956544 save_impl.py:66] Skipping full serialization of Keras layer <object_detection.core.freezable_batch_norm.FreezableBatchNorm object at 0x7ff2476efee0>, because it is not built.\n",
      "WARNING:tensorflow:Skipping full serialization of Keras layer <keras.layers.core.lambda_layer.Lambda object at 0x7ff2476ef9d0>, because it is not built.\n",
      "W0118 16:57:43.556486 4582956544 save_impl.py:66] Skipping full serialization of Keras layer <keras.layers.core.lambda_layer.Lambda object at 0x7ff2476ef9d0>, because it is not built.\n",
      "WARNING:tensorflow:Skipping full serialization of Keras layer <object_detection.core.freezable_batch_norm.FreezableBatchNorm object at 0x7ff24768ad90>, because it is not built.\n",
      "W0118 16:57:43.556544 4582956544 save_impl.py:66] Skipping full serialization of Keras layer <object_detection.core.freezable_batch_norm.FreezableBatchNorm object at 0x7ff24768ad90>, because it is not built.\n",
      "WARNING:tensorflow:Skipping full serialization of Keras layer <keras.layers.core.lambda_layer.Lambda object at 0x7ff2455b7220>, because it is not built.\n",
      "W0118 16:57:43.556602 4582956544 save_impl.py:66] Skipping full serialization of Keras layer <keras.layers.core.lambda_layer.Lambda object at 0x7ff2455b7220>, because it is not built.\n",
      "WARNING:tensorflow:Skipping full serialization of Keras layer <object_detection.core.freezable_batch_norm.FreezableBatchNorm object at 0x7ff245584e20>, because it is not built.\n",
      "W0118 16:57:43.556659 4582956544 save_impl.py:66] Skipping full serialization of Keras layer <object_detection.core.freezable_batch_norm.FreezableBatchNorm object at 0x7ff245584e20>, because it is not built.\n",
      "WARNING:tensorflow:Skipping full serialization of Keras layer <keras.layers.core.lambda_layer.Lambda object at 0x7ff2476b61c0>, because it is not built.\n",
      "W0118 16:57:43.556801 4582956544 save_impl.py:66] Skipping full serialization of Keras layer <keras.layers.core.lambda_layer.Lambda object at 0x7ff2476b61c0>, because it is not built.\n",
      "WARNING:tensorflow:Skipping full serialization of Keras layer <object_detection.core.freezable_batch_norm.FreezableBatchNorm object at 0x7ff2476b6e80>, because it is not built.\n",
      "W0118 16:57:43.556865 4582956544 save_impl.py:66] Skipping full serialization of Keras layer <object_detection.core.freezable_batch_norm.FreezableBatchNorm object at 0x7ff2476b6e80>, because it is not built.\n",
      "WARNING:tensorflow:Skipping full serialization of Keras layer <keras.layers.core.lambda_layer.Lambda object at 0x7ff2476b67c0>, because it is not built.\n",
      "W0118 16:57:43.556923 4582956544 save_impl.py:66] Skipping full serialization of Keras layer <keras.layers.core.lambda_layer.Lambda object at 0x7ff2476b67c0>, because it is not built.\n",
      "WARNING:tensorflow:Skipping full serialization of Keras layer <object_detection.core.freezable_batch_norm.FreezableBatchNorm object at 0x7ff2476b6460>, because it is not built.\n",
      "W0118 16:57:43.556981 4582956544 save_impl.py:66] Skipping full serialization of Keras layer <object_detection.core.freezable_batch_norm.FreezableBatchNorm object at 0x7ff2476b6460>, because it is not built.\n",
      "WARNING:tensorflow:Skipping full serialization of Keras layer <keras.layers.core.lambda_layer.Lambda object at 0x7ff2456d2430>, because it is not built.\n",
      "W0118 16:57:43.557038 4582956544 save_impl.py:66] Skipping full serialization of Keras layer <keras.layers.core.lambda_layer.Lambda object at 0x7ff2456d2430>, because it is not built.\n",
      "WARNING:tensorflow:Skipping full serialization of Keras layer <object_detection.core.freezable_batch_norm.FreezableBatchNorm object at 0x7ff2476c48b0>, because it is not built.\n",
      "W0118 16:57:43.557096 4582956544 save_impl.py:66] Skipping full serialization of Keras layer <object_detection.core.freezable_batch_norm.FreezableBatchNorm object at 0x7ff2476c48b0>, because it is not built.\n",
      "WARNING:tensorflow:Skipping full serialization of Keras layer <keras.layers.core.lambda_layer.Lambda object at 0x7ff248c41f70>, because it is not built.\n",
      "W0118 16:57:43.557153 4582956544 save_impl.py:66] Skipping full serialization of Keras layer <keras.layers.core.lambda_layer.Lambda object at 0x7ff248c41f70>, because it is not built.\n",
      "WARNING:tensorflow:Skipping full serialization of Keras layer <object_detection.core.freezable_batch_norm.FreezableBatchNorm object at 0x7ff248c411c0>, because it is not built.\n",
      "W0118 16:57:43.557210 4582956544 save_impl.py:66] Skipping full serialization of Keras layer <object_detection.core.freezable_batch_norm.FreezableBatchNorm object at 0x7ff248c411c0>, because it is not built.\n",
      "WARNING:tensorflow:Skipping full serialization of Keras layer <keras.layers.core.lambda_layer.Lambda object at 0x7ff248d21d60>, because it is not built.\n",
      "W0118 16:57:43.557273 4582956544 save_impl.py:66] Skipping full serialization of Keras layer <keras.layers.core.lambda_layer.Lambda object at 0x7ff248d21d60>, because it is not built.\n",
      "WARNING:tensorflow:Skipping full serialization of Keras layer <object_detection.core.freezable_batch_norm.FreezableBatchNorm object at 0x7ff248d21c40>, because it is not built.\n",
      "W0118 16:57:43.557330 4582956544 save_impl.py:66] Skipping full serialization of Keras layer <object_detection.core.freezable_batch_norm.FreezableBatchNorm object at 0x7ff248d21c40>, because it is not built.\n",
      "WARNING:tensorflow:Skipping full serialization of Keras layer <keras.layers.core.lambda_layer.Lambda object at 0x7ff248cf2e80>, because it is not built.\n",
      "W0118 16:57:43.557387 4582956544 save_impl.py:66] Skipping full serialization of Keras layer <keras.layers.core.lambda_layer.Lambda object at 0x7ff248cf2e80>, because it is not built.\n",
      "WARNING:tensorflow:Skipping full serialization of Keras layer <object_detection.core.freezable_batch_norm.FreezableBatchNorm object at 0x7ff248cf2c40>, because it is not built.\n",
      "W0118 16:57:43.557444 4582956544 save_impl.py:66] Skipping full serialization of Keras layer <object_detection.core.freezable_batch_norm.FreezableBatchNorm object at 0x7ff248cf2c40>, because it is not built.\n",
      "WARNING:tensorflow:Skipping full serialization of Keras layer <keras.layers.core.lambda_layer.Lambda object at 0x7ff248cf2460>, because it is not built.\n",
      "W0118 16:57:43.557503 4582956544 save_impl.py:66] Skipping full serialization of Keras layer <keras.layers.core.lambda_layer.Lambda object at 0x7ff248cf2460>, because it is not built.\n",
      "WARNING:tensorflow:Skipping full serialization of Keras layer <object_detection.core.freezable_batch_norm.FreezableBatchNorm object at 0x7ff2476e4d00>, because it is not built.\n",
      "W0118 16:57:43.557562 4582956544 save_impl.py:66] Skipping full serialization of Keras layer <object_detection.core.freezable_batch_norm.FreezableBatchNorm object at 0x7ff2476e4d00>, because it is not built.\n",
      "WARNING:tensorflow:Skipping full serialization of Keras layer <keras.layers.core.lambda_layer.Lambda object at 0x7ff2476f74c0>, because it is not built.\n",
      "W0118 16:57:43.557618 4582956544 save_impl.py:66] Skipping full serialization of Keras layer <keras.layers.core.lambda_layer.Lambda object at 0x7ff2476f74c0>, because it is not built.\n",
      "WARNING:tensorflow:Skipping full serialization of Keras layer <object_detection.core.freezable_batch_norm.FreezableBatchNorm object at 0x7ff2476f75b0>, because it is not built.\n",
      "W0118 16:57:43.557675 4582956544 save_impl.py:66] Skipping full serialization of Keras layer <object_detection.core.freezable_batch_norm.FreezableBatchNorm object at 0x7ff2476f75b0>, because it is not built.\n",
      "WARNING:tensorflow:Skipping full serialization of Keras layer <keras.layers.core.lambda_layer.Lambda object at 0x7ff2476f7a90>, because it is not built.\n",
      "W0118 16:57:43.557732 4582956544 save_impl.py:66] Skipping full serialization of Keras layer <keras.layers.core.lambda_layer.Lambda object at 0x7ff2476f7a90>, because it is not built.\n",
      "WARNING:tensorflow:Skipping full serialization of Keras layer <object_detection.core.freezable_batch_norm.FreezableBatchNorm object at 0x7ff2476f7b80>, because it is not built.\n",
      "W0118 16:57:43.557788 4582956544 save_impl.py:66] Skipping full serialization of Keras layer <object_detection.core.freezable_batch_norm.FreezableBatchNorm object at 0x7ff2476f7b80>, because it is not built.\n",
      "WARNING:tensorflow:Skipping full serialization of Keras layer <keras.layers.core.lambda_layer.Lambda object at 0x7ff2476fc0a0>, because it is not built.\n",
      "W0118 16:57:43.557844 4582956544 save_impl.py:66] Skipping full serialization of Keras layer <keras.layers.core.lambda_layer.Lambda object at 0x7ff2476fc0a0>, because it is not built.\n",
      "WARNING:tensorflow:Skipping full serialization of Keras layer <object_detection.core.freezable_batch_norm.FreezableBatchNorm object at 0x7ff2476fc190>, because it is not built.\n"
     ]
    },
    {
     "name": "stdout",
     "output_type": "stream",
     "text": [
      "W0118 16:57:43.557903 4582956544 save_impl.py:66] Skipping full serialization of Keras layer <object_detection.core.freezable_batch_norm.FreezableBatchNorm object at 0x7ff2476fc190>, because it is not built.\n",
      "WARNING:tensorflow:Skipping full serialization of Keras layer <keras.layers.core.lambda_layer.Lambda object at 0x7ff2476fc670>, because it is not built.\n",
      "W0118 16:57:43.558040 4582956544 save_impl.py:66] Skipping full serialization of Keras layer <keras.layers.core.lambda_layer.Lambda object at 0x7ff2476fc670>, because it is not built.\n",
      "WARNING:tensorflow:Skipping full serialization of Keras layer <object_detection.core.freezable_batch_norm.FreezableBatchNorm object at 0x7ff248d163a0>, because it is not built.\n",
      "W0118 16:57:43.558116 4582956544 save_impl.py:66] Skipping full serialization of Keras layer <object_detection.core.freezable_batch_norm.FreezableBatchNorm object at 0x7ff248d163a0>, because it is not built.\n",
      "WARNING:tensorflow:Skipping full serialization of Keras layer <keras.layers.core.lambda_layer.Lambda object at 0x7ff248d12e20>, because it is not built.\n",
      "W0118 16:57:43.558182 4582956544 save_impl.py:66] Skipping full serialization of Keras layer <keras.layers.core.lambda_layer.Lambda object at 0x7ff248d12e20>, because it is not built.\n",
      "WARNING:tensorflow:Skipping full serialization of Keras layer <object_detection.core.freezable_batch_norm.FreezableBatchNorm object at 0x7ff248d12f10>, because it is not built.\n",
      "W0118 16:57:43.558949 4582956544 save_impl.py:66] Skipping full serialization of Keras layer <object_detection.core.freezable_batch_norm.FreezableBatchNorm object at 0x7ff248d12f10>, because it is not built.\n",
      "WARNING:tensorflow:Skipping full serialization of Keras layer <keras.layers.core.lambda_layer.Lambda object at 0x7ff248d25430>, because it is not built.\n",
      "W0118 16:57:43.559026 4582956544 save_impl.py:66] Skipping full serialization of Keras layer <keras.layers.core.lambda_layer.Lambda object at 0x7ff248d25430>, because it is not built.\n",
      "WARNING:tensorflow:Skipping full serialization of Keras layer <object_detection.core.freezable_batch_norm.FreezableBatchNorm object at 0x7ff248d25520>, because it is not built.\n",
      "W0118 16:57:43.559093 4582956544 save_impl.py:66] Skipping full serialization of Keras layer <object_detection.core.freezable_batch_norm.FreezableBatchNorm object at 0x7ff248d25520>, because it is not built.\n",
      "WARNING:tensorflow:Skipping full serialization of Keras layer <keras.layers.core.lambda_layer.Lambda object at 0x7ff248d25a00>, because it is not built.\n",
      "W0118 16:57:43.559316 4582956544 save_impl.py:66] Skipping full serialization of Keras layer <keras.layers.core.lambda_layer.Lambda object at 0x7ff248d25a00>, because it is not built.\n",
      "WARNING:tensorflow:Skipping full serialization of Keras layer <object_detection.core.freezable_batch_norm.FreezableBatchNorm object at 0x7ff248d25af0>, because it is not built.\n",
      "W0118 16:57:43.559392 4582956544 save_impl.py:66] Skipping full serialization of Keras layer <object_detection.core.freezable_batch_norm.FreezableBatchNorm object at 0x7ff248d25af0>, because it is not built.\n",
      "WARNING:tensorflow:Skipping full serialization of Keras layer <keras.layers.core.lambda_layer.Lambda object at 0x7ff248d25f70>, because it is not built.\n",
      "W0118 16:57:43.559463 4582956544 save_impl.py:66] Skipping full serialization of Keras layer <keras.layers.core.lambda_layer.Lambda object at 0x7ff248d25f70>, because it is not built.\n",
      "W0118 16:57:59.846659 4582956544 save.py:271] Found untraced functions such as WeightSharedConvolutionalBoxPredictor_layer_call_fn, WeightSharedConvolutionalBoxPredictor_layer_call_and_return_conditional_losses, WeightSharedConvolutionalBoxHead_layer_call_fn, WeightSharedConvolutionalBoxHead_layer_call_and_return_conditional_losses, WeightSharedConvolutionalClassHead_layer_call_fn while saving (showing 5 of 173). These functions will not be directly callable after loading.\n",
      "INFO:tensorflow:Assets written to: Tensorflow/workspace/models/my_ssd_mobnet/export/saved_model/assets\n",
      "I0118 16:58:05.474462 4582956544 builder_impl.py:797] Assets written to: Tensorflow/workspace/models/my_ssd_mobnet/export/saved_model/assets\n",
      "INFO:tensorflow:Writing pipeline config file to Tensorflow/workspace/models/my_ssd_mobnet/export/pipeline.config\n",
      "I0118 16:58:06.922917 4582956544 config_util.py:253] Writing pipeline config file to Tensorflow/workspace/models/my_ssd_mobnet/export/pipeline.config\n"
     ]
    }
   ],
   "source": [
    "!{command}"
   ]
  },
  {
   "cell_type": "markdown",
   "metadata": {
    "id": "wTPmdqaXpfDK"
   },
   "source": [
    "# 11. Conversion to TFJS"
   ]
  },
  {
   "cell_type": "code",
   "execution_count": 82,
   "metadata": {
    "colab": {
     "base_uri": "https://localhost:8080/"
    },
    "id": "gZ6UzY_fpfDK",
    "outputId": "0c84722e-1c2b-4002-d857-80827ade828a",
    "scrolled": true
   },
   "outputs": [
    {
     "name": "stdout",
     "output_type": "stream",
     "text": [
      "Collecting tensorflowjs\n",
      "  Downloading tensorflowjs-4.2.0-py3-none-any.whl (84 kB)\n",
      "\u001b[2K     \u001b[90m━━━━━━━━━━━━━━━━━━━━━━━━━━━━━━━━━━━━━━━━\u001b[0m \u001b[32m84.5/84.5 kB\u001b[0m \u001b[31m1.1 MB/s\u001b[0m eta \u001b[36m0:00:00\u001b[0ma \u001b[36m0:00:01\u001b[0m\n",
      "\u001b[?25hCollecting jax>=0.3.16\n",
      "  Downloading jax-0.4.1.tar.gz (1.2 MB)\n",
      "\u001b[2K     \u001b[90m━━━━━━━━━━━━━━━━━━━━━━━━━━━━━━━━━━━━━━━━\u001b[0m \u001b[32m1.2/1.2 MB\u001b[0m \u001b[31m11.1 MB/s\u001b[0m eta \u001b[36m0:00:00\u001b[0m00:01\u001b[0m00:01\u001b[0m\n",
      "\u001b[?25h  Preparing metadata (setup.py) ... \u001b[?25ldone\n",
      "\u001b[?25hCollecting packaging~=20.9\n",
      "  Downloading packaging-20.9-py2.py3-none-any.whl (40 kB)\n",
      "\u001b[2K     \u001b[90m━━━━━━━━━━━━━━━━━━━━━━━━━━━━━━━━━━━━━━━━\u001b[0m \u001b[32m40.9/40.9 kB\u001b[0m \u001b[31m1.2 MB/s\u001b[0m eta \u001b[36m0:00:00\u001b[0m\n",
      "\u001b[?25hCollecting flax>=0.6.2\n",
      "  Downloading flax-0.6.3-py3-none-any.whl (197 kB)\n",
      "\u001b[2K     \u001b[90m━━━━━━━━━━━━━━━━━━━━━━━━━━━━━━━━━━━━━━━\u001b[0m \u001b[32m197.4/197.4 kB\u001b[0m \u001b[31m7.2 MB/s\u001b[0m eta \u001b[36m0:00:00\u001b[0m\n",
      "\u001b[?25hRequirement already satisfied: importlib_resources>=5.9.0 in ./tfod/lib/python3.9/site-packages (from tensorflowjs) (5.10.2)\n",
      "Requirement already satisfied: tensorflow-hub<0.13,>=0.7.0 in ./tfod/lib/python3.9/site-packages (from tensorflowjs) (0.12.0)\n",
      "Requirement already satisfied: tensorflow<3,>=2.10.0 in ./tfod/lib/python3.9/site-packages (from tensorflowjs) (2.11.0)\n",
      "Collecting tensorflow-decision-forests>=1.0.1\n",
      "  Downloading tensorflow_decision_forests-1.1.0-cp39-cp39-macosx_10_14_x86_64.whl (11.9 MB)\n",
      "\u001b[2K     \u001b[90m━━━━━━━━━━━━━━━━━━━━━━━━━━━━━━━━━━━━━━━━\u001b[0m \u001b[32m11.9/11.9 MB\u001b[0m \u001b[31m12.8 MB/s\u001b[0m eta \u001b[36m0:00:00\u001b[0m00:01\u001b[0m00:01\u001b[0m\n",
      "\u001b[?25hCollecting protobuf<3.20,>=3.9.2\n",
      "  Using cached protobuf-3.19.6-cp39-cp39-macosx_10_9_x86_64.whl (980 kB)\n",
      "Requirement already satisfied: six<2,>=1.12.0 in ./tfod/lib/python3.9/site-packages (from tensorflowjs) (1.16.0)\n",
      "Requirement already satisfied: numpy>=1.12 in ./tfod/lib/python3.9/site-packages (from flax>=0.6.2->tensorflowjs) (1.22.4)\n",
      "Requirement already satisfied: typing-extensions>=4.1.1 in ./tfod/lib/python3.9/site-packages (from flax>=0.6.2->tensorflowjs) (4.4.0)\n",
      "Collecting tensorstore\n",
      "  Downloading tensorstore-0.1.30-cp39-cp39-macosx_10_14_x86_64.whl (9.2 MB)\n",
      "\u001b[2K     \u001b[90m━━━━━━━━━━━━━━━━━━━━━━━━━━━━━━━━━━━━━━━━\u001b[0m \u001b[32m9.2/9.2 MB\u001b[0m \u001b[31m13.3 MB/s\u001b[0m eta \u001b[36m0:00:00\u001b[0m00:01\u001b[0m00:01\u001b[0m\n",
      "\u001b[?25hRequirement already satisfied: matplotlib in ./tfod/lib/python3.9/site-packages (from flax>=0.6.2->tensorflowjs) (3.2.0)\n",
      "Collecting msgpack\n",
      "  Downloading msgpack-1.0.4-cp39-cp39-macosx_10_9_x86_64.whl (75 kB)\n",
      "\u001b[2K     \u001b[90m━━━━━━━━━━━━━━━━━━━━━━━━━━━━━━━━━━━━━━━━\u001b[0m \u001b[32m75.3/75.3 kB\u001b[0m \u001b[31m2.6 MB/s\u001b[0m eta \u001b[36m0:00:00\u001b[0m\n",
      "\u001b[?25hCollecting orbax\n",
      "  Downloading orbax-0.1.0-py3-none-any.whl (66 kB)\n",
      "\u001b[2K     \u001b[90m━━━━━━━━━━━━━━━━━━━━━━━━━━━━━━━━━━━━━━━━\u001b[0m \u001b[32m67.0/67.0 kB\u001b[0m \u001b[31m2.2 MB/s\u001b[0m eta \u001b[36m0:00:00\u001b[0m\n",
      "\u001b[?25hCollecting rich>=11.1\n",
      "  Downloading rich-13.1.0-py3-none-any.whl (238 kB)\n",
      "\u001b[2K     \u001b[90m━━━━━━━━━━━━━━━━━━━━━━━━━━━━━━━━━━━━━━━\u001b[0m \u001b[32m238.4/238.4 kB\u001b[0m \u001b[31m7.8 MB/s\u001b[0m eta \u001b[36m0:00:00\u001b[0m\n",
      "\u001b[?25hCollecting optax\n",
      "  Downloading optax-0.1.4-py3-none-any.whl (154 kB)\n",
      "\u001b[2K     \u001b[90m━━━━━━━━━━━━━━━━━━━━━━━━━━━━━━━━━━━━━━━\u001b[0m \u001b[32m154.9/154.9 kB\u001b[0m \u001b[31m5.5 MB/s\u001b[0m eta \u001b[36m0:00:00\u001b[0m\n",
      "\u001b[?25hRequirement already satisfied: PyYAML>=5.4.1 in ./tfod/lib/python3.9/site-packages (from flax>=0.6.2->tensorflowjs) (5.4.1)\n",
      "Requirement already satisfied: zipp>=3.1.0 in ./tfod/lib/python3.9/site-packages (from importlib_resources>=5.9.0->tensorflowjs) (3.11.0)\n",
      "Requirement already satisfied: opt_einsum in ./tfod/lib/python3.9/site-packages (from jax>=0.3.16->tensorflowjs) (3.3.0)\n",
      "Requirement already satisfied: scipy>=1.5 in ./tfod/lib/python3.9/site-packages (from jax>=0.3.16->tensorflowjs) (1.10.0)\n",
      "Requirement already satisfied: pyparsing>=2.0.2 in ./tfod/lib/python3.9/site-packages (from packaging~=20.9->tensorflowjs) (2.4.7)\n",
      "Requirement already satisfied: gast<=0.4.0,>=0.2.1 in ./tfod/lib/python3.9/site-packages (from tensorflow<3,>=2.10.0->tensorflowjs) (0.4.0)\n",
      "Requirement already satisfied: keras<2.12,>=2.11.0 in ./tfod/lib/python3.9/site-packages (from tensorflow<3,>=2.10.0->tensorflowjs) (2.11.0)\n",
      "Requirement already satisfied: absl-py>=1.0.0 in ./tfod/lib/python3.9/site-packages (from tensorflow<3,>=2.10.0->tensorflowjs) (1.4.0)\n",
      "Requirement already satisfied: astunparse>=1.6.0 in ./tfod/lib/python3.9/site-packages (from tensorflow<3,>=2.10.0->tensorflowjs) (1.6.3)\n",
      "Requirement already satisfied: h5py>=2.9.0 in ./tfod/lib/python3.9/site-packages (from tensorflow<3,>=2.10.0->tensorflowjs) (3.7.0)\n",
      "Requirement already satisfied: libclang>=13.0.0 in ./tfod/lib/python3.9/site-packages (from tensorflow<3,>=2.10.0->tensorflowjs) (15.0.6.1)\n",
      "Requirement already satisfied: setuptools in ./tfod/lib/python3.9/site-packages (from tensorflow<3,>=2.10.0->tensorflowjs) (58.1.0)\n",
      "Requirement already satisfied: flatbuffers>=2.0 in ./tfod/lib/python3.9/site-packages (from tensorflow<3,>=2.10.0->tensorflowjs) (23.1.4)\n",
      "Requirement already satisfied: grpcio<2.0,>=1.24.3 in ./tfod/lib/python3.9/site-packages (from tensorflow<3,>=2.10.0->tensorflowjs) (1.51.1)\n",
      "Requirement already satisfied: tensorflow-estimator<2.12,>=2.11.0 in ./tfod/lib/python3.9/site-packages (from tensorflow<3,>=2.10.0->tensorflowjs) (2.11.0)\n",
      "Requirement already satisfied: termcolor>=1.1.0 in ./tfod/lib/python3.9/site-packages (from tensorflow<3,>=2.10.0->tensorflowjs) (2.2.0)\n",
      "Requirement already satisfied: google-pasta>=0.1.1 in ./tfod/lib/python3.9/site-packages (from tensorflow<3,>=2.10.0->tensorflowjs) (0.2.0)\n",
      "Requirement already satisfied: tensorboard<2.12,>=2.11 in ./tfod/lib/python3.9/site-packages (from tensorflow<3,>=2.10.0->tensorflowjs) (2.11.1)\n",
      "Requirement already satisfied: wrapt>=1.11.0 in ./tfod/lib/python3.9/site-packages (from tensorflow<3,>=2.10.0->tensorflowjs) (1.14.1)\n",
      "Requirement already satisfied: tensorflow-io-gcs-filesystem>=0.23.1 in ./tfod/lib/python3.9/site-packages (from tensorflow<3,>=2.10.0->tensorflowjs) (0.29.0)\n",
      "Collecting wurlitzer\n",
      "  Downloading wurlitzer-3.0.3-py3-none-any.whl (7.3 kB)\n",
      "Requirement already satisfied: wheel in ./tfod/lib/python3.9/site-packages (from tensorflow-decision-forests>=1.0.1->tensorflowjs) (0.38.4)\n",
      "Requirement already satisfied: pandas in ./tfod/lib/python3.9/site-packages (from tensorflow-decision-forests>=1.0.1->tensorflowjs) (1.5.2)\n",
      "Collecting commonmark<0.10.0,>=0.9.0\n",
      "  Downloading commonmark-0.9.1-py2.py3-none-any.whl (51 kB)\n",
      "\u001b[2K     \u001b[90m━━━━━━━━━━━━━━━━━━━━━━━━━━━━━━━━━━━━━━━━\u001b[0m \u001b[32m51.1/51.1 kB\u001b[0m \u001b[31m1.6 MB/s\u001b[0m eta \u001b[36m0:00:00\u001b[0m\n",
      "\u001b[?25hRequirement already satisfied: pygments<3.0.0,>=2.6.0 in ./tfod/lib/python3.9/site-packages (from rich>=11.1->flax>=0.6.2->tensorflowjs) (2.14.0)\n",
      "Requirement already satisfied: google-auth<3,>=1.6.3 in ./tfod/lib/python3.9/site-packages (from tensorboard<2.12,>=2.11->tensorflow<3,>=2.10.0->tensorflowjs) (2.16.0)\n",
      "Requirement already satisfied: tensorboard-plugin-wit>=1.6.0 in ./tfod/lib/python3.9/site-packages (from tensorboard<2.12,>=2.11->tensorflow<3,>=2.10.0->tensorflowjs) (1.8.1)\n",
      "Requirement already satisfied: markdown>=2.6.8 in ./tfod/lib/python3.9/site-packages (from tensorboard<2.12,>=2.11->tensorflow<3,>=2.10.0->tensorflowjs) (3.4.1)\n",
      "Requirement already satisfied: werkzeug>=1.0.1 in ./tfod/lib/python3.9/site-packages (from tensorboard<2.12,>=2.11->tensorflow<3,>=2.10.0->tensorflowjs) (2.2.2)\n",
      "Requirement already satisfied: requests<3,>=2.21.0 in ./tfod/lib/python3.9/site-packages (from tensorboard<2.12,>=2.11->tensorflow<3,>=2.10.0->tensorflowjs) (2.28.2)\n",
      "Requirement already satisfied: google-auth-oauthlib<0.5,>=0.4.1 in ./tfod/lib/python3.9/site-packages (from tensorboard<2.12,>=2.11->tensorflow<3,>=2.10.0->tensorflowjs) (0.4.6)\n",
      "Requirement already satisfied: tensorboard-data-server<0.7.0,>=0.6.0 in ./tfod/lib/python3.9/site-packages (from tensorboard<2.12,>=2.11->tensorflow<3,>=2.10.0->tensorflowjs) (0.6.1)\n",
      "Requirement already satisfied: cycler>=0.10 in ./tfod/lib/python3.9/site-packages (from matplotlib->flax>=0.6.2->tensorflowjs) (0.11.0)\n",
      "Requirement already satisfied: python-dateutil>=2.1 in ./tfod/lib/python3.9/site-packages (from matplotlib->flax>=0.6.2->tensorflowjs) (2.8.2)\n",
      "Requirement already satisfied: kiwisolver>=1.0.1 in ./tfod/lib/python3.9/site-packages (from matplotlib->flax>=0.6.2->tensorflowjs) (1.4.4)\n"
     ]
    },
    {
     "name": "stdout",
     "output_type": "stream",
     "text": [
      "Collecting jaxlib>=0.1.37\n",
      "  Downloading jaxlib-0.4.1-cp39-cp39-macosx_10_14_x86_64.whl (64.0 MB)\n",
      "\u001b[2K     \u001b[90m━━━━━━━━━━━━━━━━━━━━━━━━━━━━━━━━━━━━━━━━\u001b[0m \u001b[32m64.0/64.0 MB\u001b[0m \u001b[31m9.5 MB/s\u001b[0m eta \u001b[36m0:00:00\u001b[0m:00:01\u001b[0m00:01\u001b[0m\n",
      "\u001b[?25hCollecting chex>=0.1.5\n",
      "  Downloading chex-0.1.5-py3-none-any.whl (85 kB)\n",
      "\u001b[2K     \u001b[90m━━━━━━━━━━━━━━━━━━━━━━━━━━━━━━━━━━━━━━━━\u001b[0m \u001b[32m85.3/85.3 kB\u001b[0m \u001b[31m3.0 MB/s\u001b[0m eta \u001b[36m0:00:00\u001b[0m\n",
      "\u001b[?25hCollecting pytest\n",
      "  Downloading pytest-7.2.1-py3-none-any.whl (317 kB)\n",
      "\u001b[2K     \u001b[90m━━━━━━━━━━━━━━━━━━━━━━━━━━━━━━━━━━━━━━\u001b[0m \u001b[32m317.1/317.1 kB\u001b[0m \u001b[31m10.0 MB/s\u001b[0m eta \u001b[36m0:00:00\u001b[0m\n",
      "\u001b[?25hCollecting cached_property\n",
      "  Downloading cached_property-1.5.2-py2.py3-none-any.whl (7.6 kB)\n",
      "Requirement already satisfied: etils in ./tfod/lib/python3.9/site-packages (from orbax->flax>=0.6.2->tensorflowjs) (1.0.0)\n",
      "Requirement already satisfied: pytz>=2020.1 in ./tfod/lib/python3.9/site-packages (from pandas->tensorflow-decision-forests>=1.0.1->tensorflowjs) (2022.7)\n",
      "Requirement already satisfied: dm-tree>=0.1.5 in ./tfod/lib/python3.9/site-packages (from chex>=0.1.5->optax->flax>=0.6.2->tensorflowjs) (0.1.8)\n",
      "Collecting toolz>=0.9.0\n",
      "  Downloading toolz-0.12.0-py3-none-any.whl (55 kB)\n",
      "\u001b[2K     \u001b[90m━━━━━━━━━━━━━━━━━━━━━━━━━━━━━━━━━━━━━━━━\u001b[0m \u001b[32m55.8/55.8 kB\u001b[0m \u001b[31m1.8 MB/s\u001b[0m eta \u001b[36m0:00:00\u001b[0m\n",
      "\u001b[?25hRequirement already satisfied: cachetools<6.0,>=2.0.0 in ./tfod/lib/python3.9/site-packages (from google-auth<3,>=1.6.3->tensorboard<2.12,>=2.11->tensorflow<3,>=2.10.0->tensorflowjs) (5.2.1)\n",
      "Requirement already satisfied: pyasn1-modules>=0.2.1 in ./tfod/lib/python3.9/site-packages (from google-auth<3,>=1.6.3->tensorboard<2.12,>=2.11->tensorflow<3,>=2.10.0->tensorflowjs) (0.2.8)\n",
      "Requirement already satisfied: rsa<5,>=3.1.4 in ./tfod/lib/python3.9/site-packages (from google-auth<3,>=1.6.3->tensorboard<2.12,>=2.11->tensorflow<3,>=2.10.0->tensorflowjs) (4.9)\n",
      "Requirement already satisfied: requests-oauthlib>=0.7.0 in ./tfod/lib/python3.9/site-packages (from google-auth-oauthlib<0.5,>=0.4.1->tensorboard<2.12,>=2.11->tensorflow<3,>=2.10.0->tensorflowjs) (1.3.1)\n",
      "Requirement already satisfied: importlib-metadata>=4.4 in ./tfod/lib/python3.9/site-packages (from markdown>=2.6.8->tensorboard<2.12,>=2.11->tensorflow<3,>=2.10.0->tensorflowjs) (6.0.0)\n",
      "Requirement already satisfied: idna<4,>=2.5 in ./tfod/lib/python3.9/site-packages (from requests<3,>=2.21.0->tensorboard<2.12,>=2.11->tensorflow<3,>=2.10.0->tensorflowjs) (3.4)\n",
      "Requirement already satisfied: urllib3<1.27,>=1.21.1 in ./tfod/lib/python3.9/site-packages (from requests<3,>=2.21.0->tensorboard<2.12,>=2.11->tensorflow<3,>=2.10.0->tensorflowjs) (1.26.14)\n",
      "Requirement already satisfied: charset-normalizer<4,>=2 in ./tfod/lib/python3.9/site-packages (from requests<3,>=2.21.0->tensorboard<2.12,>=2.11->tensorflow<3,>=2.10.0->tensorflowjs) (3.0.1)\n",
      "Requirement already satisfied: certifi>=2017.4.17 in ./tfod/lib/python3.9/site-packages (from requests<3,>=2.21.0->tensorboard<2.12,>=2.11->tensorflow<3,>=2.10.0->tensorflowjs) (2022.12.7)\n",
      "Requirement already satisfied: MarkupSafe>=2.1.1 in ./tfod/lib/python3.9/site-packages (from werkzeug>=1.0.1->tensorboard<2.12,>=2.11->tensorflow<3,>=2.10.0->tensorflowjs) (2.1.1)\n",
      "Collecting iniconfig\n",
      "  Downloading iniconfig-2.0.0-py3-none-any.whl (5.9 kB)\n",
      "Collecting pluggy<2.0,>=0.12\n",
      "  Downloading pluggy-1.0.0-py2.py3-none-any.whl (13 kB)\n",
      "Collecting tomli>=1.0.0\n",
      "  Using cached tomli-2.0.1-py3-none-any.whl (12 kB)\n",
      "Collecting attrs>=19.2.0\n",
      "  Downloading attrs-22.2.0-py3-none-any.whl (60 kB)\n",
      "\u001b[2K     \u001b[90m━━━━━━━━━━━━━━━━━━━━━━━━━━━━━━━━━━━━━━━━\u001b[0m \u001b[32m60.0/60.0 kB\u001b[0m \u001b[31m1.8 MB/s\u001b[0m eta \u001b[36m0:00:00\u001b[0m\n",
      "\u001b[?25hCollecting exceptiongroup>=1.0.0rc8\n",
      "  Downloading exceptiongroup-1.1.0-py3-none-any.whl (14 kB)\n",
      "Requirement already satisfied: pyasn1<0.5.0,>=0.4.6 in ./tfod/lib/python3.9/site-packages (from pyasn1-modules>=0.2.1->google-auth<3,>=1.6.3->tensorboard<2.12,>=2.11->tensorflow<3,>=2.10.0->tensorflowjs) (0.4.8)\n",
      "Requirement already satisfied: oauthlib>=3.0.0 in ./tfod/lib/python3.9/site-packages (from requests-oauthlib>=0.7.0->google-auth-oauthlib<0.5,>=0.4.1->tensorboard<2.12,>=2.11->tensorflow<3,>=2.10.0->tensorflowjs) (3.2.2)\n",
      "Building wheels for collected packages: jax\n",
      "  Building wheel for jax (setup.py) ... \u001b[?25ldone\n",
      "\u001b[?25h  Created wheel for jax: filename=jax-0.4.1-py3-none-any.whl size=1332478 sha256=d1c26638ddd970d5f3d8fb65a77caeeab235c001e1038fdc9fe81f099798a449\n",
      "  Stored in directory: /Users/rogerfinnerty/Library/Caches/pip/wheels/50/a9/f3/86082312fd44e12e52b1b7744c37ed1d02e64deefdc735c77b\n",
      "Successfully built jax\n",
      "Installing collected packages: msgpack, commonmark, cached_property, wurlitzer, toolz, tomli, tensorstore, rich, protobuf, pluggy, packaging, iniconfig, exceptiongroup, attrs, pytest, jaxlib, jax, chex, optax, tensorflow-decision-forests, orbax, flax, tensorflowjs\n",
      "  Attempting uninstall: protobuf\n",
      "    Found existing installation: protobuf 3.20.3\n",
      "    Uninstalling protobuf-3.20.3:\n",
      "      Successfully uninstalled protobuf-3.20.3\n",
      "  Attempting uninstall: packaging\n",
      "    Found existing installation: packaging 23.0\n",
      "    Uninstalling packaging-23.0:\n",
      "      Successfully uninstalled packaging-23.0\n",
      "Successfully installed attrs-22.2.0 cached_property-1.5.2 chex-0.1.5 commonmark-0.9.1 exceptiongroup-1.1.0 flax-0.6.3 iniconfig-2.0.0 jax-0.4.1 jaxlib-0.4.1 msgpack-1.0.4 optax-0.1.4 orbax-0.1.0 packaging-20.9 pluggy-1.0.0 protobuf-3.19.6 pytest-7.2.1 rich-13.1.0 tensorflow-decision-forests-1.1.0 tensorflowjs-4.2.0 tensorstore-0.1.30 tomli-2.0.1 toolz-0.12.0 wurlitzer-3.0.3\n"
     ]
    }
   ],
   "source": [
    "!pip install tensorflowjs"
   ]
  },
  {
   "cell_type": "code",
   "execution_count": 83,
   "metadata": {
    "id": "0oxbVynHpfDK"
   },
   "outputs": [],
   "source": [
    "command = \"tensorflowjs_converter --input_format=tf_saved_model --output_node_names='detection_boxes,detection_classes,detection_features,detection_multiclass_scores,detection_scores,num_detections,raw_detection_boxes,raw_detection_scores' --output_format=tfjs_graph_model --signature_name=serving_default {} {}\".format(os.path.join(paths['OUTPUT_PATH'], 'saved_model'), paths['TFJS_PATH'])"
   ]
  },
  {
   "cell_type": "code",
   "execution_count": 84,
   "metadata": {
    "colab": {
     "base_uri": "https://localhost:8080/"
    },
    "id": "DB2AGNmJpfDK",
    "outputId": "fbc9f747-f511-47e8-df8f-5ea65cef0374"
   },
   "outputs": [
    {
     "name": "stdout",
     "output_type": "stream",
     "text": [
      "tensorflowjs_converter --input_format=tf_saved_model --output_node_names='detection_boxes,detection_classes,detection_features,detection_multiclass_scores,detection_scores,num_detections,raw_detection_boxes,raw_detection_scores' --output_format=tfjs_graph_model --signature_name=serving_default Tensorflow/workspace/models/my_ssd_mobnet/export/saved_model Tensorflow/workspace/models/my_ssd_mobnet/tfjsexport\n"
     ]
    }
   ],
   "source": [
    "print(command)"
   ]
  },
  {
   "cell_type": "code",
   "execution_count": 85,
   "metadata": {
    "colab": {
     "base_uri": "https://localhost:8080/"
    },
    "id": "K7rfT4-hpfDK",
    "outputId": "532707fd-6feb-4bc6-84a3-325b5d16303c"
   },
   "outputs": [
    {
     "name": "stdout",
     "output_type": "stream",
     "text": [
      "2023-01-18 16:59:31.869695: I tensorflow/core/platform/cpu_feature_guard.cc:193] This TensorFlow binary is optimized with oneAPI Deep Neural Network Library (oneDNN) to use the following CPU instructions in performance-critical operations:  AVX2 FMA\n",
      "To enable them in other operations, rebuild TensorFlow with the appropriate compiler flags.\n",
      "WARNING:root:Failure to load the training.so custom c++ tensorflow ops. This error is likely caused the version of TensorFlow and TensorFlow Decision Forests are not compatible. Full error:dlopen(/Users/rogerfinnerty/Desktop/TensorFlowObjectDetection/TFODCourse/tfod/lib/python3.9/site-packages/tensorflow_decision_forests/tensorflow/ops/training/training.so, 6): Symbol not found: __ZNKSt3__115basic_stringbufIcNS_11char_traitsIcEENS_9allocatorIcEEE3strEv\n",
      "  Referenced from: /Users/rogerfinnerty/Desktop/TensorFlowObjectDetection/TFODCourse/tfod/lib/python3.9/site-packages/tensorflow_decision_forests/tensorflow/ops/training/training.so (which was built for Mac OS X 12.3)\n",
      "  Expected in: /usr/lib/libc++.1.dylib\n",
      "\n",
      "Traceback (most recent call last):\n",
      "  File \"/Users/rogerfinnerty/Desktop/TensorFlowObjectDetection/TFODCourse/tfod/bin/tensorflowjs_converter\", line 5, in <module>\n",
      "    from tensorflowjs.converters.converter import pip_main\n",
      "  File \"/Users/rogerfinnerty/Desktop/TensorFlowObjectDetection/TFODCourse/tfod/lib/python3.9/site-packages/tensorflowjs/__init__.py\", line 21, in <module>\n",
      "    from tensorflowjs import converters\n",
      "  File \"/Users/rogerfinnerty/Desktop/TensorFlowObjectDetection/TFODCourse/tfod/lib/python3.9/site-packages/tensorflowjs/converters/__init__.py\", line 21, in <module>\n",
      "    from tensorflowjs.converters.converter import convert\n",
      "  File \"/Users/rogerfinnerty/Desktop/TensorFlowObjectDetection/TFODCourse/tfod/lib/python3.9/site-packages/tensorflowjs/converters/converter.py\", line 37, in <module>\n",
      "    from tensorflowjs.converters import tf_saved_model_conversion_v2\n",
      "  File \"/Users/rogerfinnerty/Desktop/TensorFlowObjectDetection/TFODCourse/tfod/lib/python3.9/site-packages/tensorflowjs/converters/tf_saved_model_conversion_v2.py\", line 28, in <module>\n",
      "    import tensorflow_decision_forests\n",
      "  File \"/Users/rogerfinnerty/Desktop/TensorFlowObjectDetection/TFODCourse/tfod/lib/python3.9/site-packages/tensorflow_decision_forests/__init__.py\", line 64, in <module>\n",
      "    from tensorflow_decision_forests import keras\n",
      "  File \"/Users/rogerfinnerty/Desktop/TensorFlowObjectDetection/TFODCourse/tfod/lib/python3.9/site-packages/tensorflow_decision_forests/keras/__init__.py\", line 54, in <module>\n",
      "    from tensorflow_decision_forests.keras import core\n",
      "  File \"/Users/rogerfinnerty/Desktop/TensorFlowObjectDetection/TFODCourse/tfod/lib/python3.9/site-packages/tensorflow_decision_forests/keras/core.py\", line 60, in <module>\n",
      "    from tensorflow_decision_forests.keras import core_inference\n",
      "  File \"/Users/rogerfinnerty/Desktop/TensorFlowObjectDetection/TFODCourse/tfod/lib/python3.9/site-packages/tensorflow_decision_forests/keras/core_inference.py\", line 34, in <module>\n",
      "    from tensorflow_decision_forests.tensorflow import tf_logging\n",
      "  File \"/Users/rogerfinnerty/Desktop/TensorFlowObjectDetection/TFODCourse/tfod/lib/python3.9/site-packages/tensorflow_decision_forests/tensorflow/tf_logging.py\", line 26, in <module>\n",
      "    from tensorflow_decision_forests.tensorflow.ops.training import op as training_op\n",
      "  File \"/Users/rogerfinnerty/Desktop/TensorFlowObjectDetection/TFODCourse/tfod/lib/python3.9/site-packages/tensorflow_decision_forests/tensorflow/ops/training/op.py\", line 15, in <module>\n",
      "    from tensorflow_decision_forests.tensorflow.ops.training.op_dynamic import *\n",
      "  File \"/Users/rogerfinnerty/Desktop/TensorFlowObjectDetection/TFODCourse/tfod/lib/python3.9/site-packages/tensorflow_decision_forests/tensorflow/ops/training/op_dynamic.py\", line 24, in <module>\n",
      "    raise e\n",
      "  File \"/Users/rogerfinnerty/Desktop/TensorFlowObjectDetection/TFODCourse/tfod/lib/python3.9/site-packages/tensorflow_decision_forests/tensorflow/ops/training/op_dynamic.py\", line 21, in <module>\n",
      "    ops = tf.load_op_library(resource_loader.get_path_to_datafile(\"training.so\"))\n",
      "  File \"/Users/rogerfinnerty/Desktop/TensorFlowObjectDetection/TFODCourse/tfod/lib/python3.9/site-packages/tensorflow/python/framework/load_library.py\", line 54, in load_op_library\n",
      "    lib_handle = py_tf.TF_LoadLibrary(library_filename)\n",
      "tensorflow.python.framework.errors_impl.NotFoundError: dlopen(/Users/rogerfinnerty/Desktop/TensorFlowObjectDetection/TFODCourse/tfod/lib/python3.9/site-packages/tensorflow_decision_forests/tensorflow/ops/training/training.so, 6): Symbol not found: __ZNKSt3__115basic_stringbufIcNS_11char_traitsIcEENS_9allocatorIcEEE3strEv\n",
      "  Referenced from: /Users/rogerfinnerty/Desktop/TensorFlowObjectDetection/TFODCourse/tfod/lib/python3.9/site-packages/tensorflow_decision_forests/tensorflow/ops/training/training.so (which was built for Mac OS X 12.3)\n",
      "  Expected in: /usr/lib/libc++.1.dylib\n",
      "\n"
     ]
    }
   ],
   "source": [
    "!{command}"
   ]
  },
  {
   "cell_type": "code",
   "execution_count": null,
   "metadata": {
    "id": "o8_hm-itpfDK"
   },
   "outputs": [],
   "source": [
    "# Test Code: https://github.com/nicknochnack/RealTimeSignLanguageDetectionwithTFJS"
   ]
  },
  {
   "cell_type": "markdown",
   "metadata": {
    "id": "VtUw73FHpfDK"
   },
   "source": [
    "# 12. Conversion to TFLite"
   ]
  },
  {
   "cell_type": "code",
   "execution_count": null,
   "metadata": {
    "id": "XviMtewLpfDK"
   },
   "outputs": [],
   "source": [
    "TFLITE_SCRIPT = os.path.join(paths['APIMODEL_PATH'], 'research', 'object_detection', 'export_tflite_graph_tf2.py ')"
   ]
  },
  {
   "cell_type": "code",
   "execution_count": null,
   "metadata": {
    "id": "us86cjC4pfDL"
   },
   "outputs": [],
   "source": [
    "command = \"python {} --pipeline_config_path={} --trained_checkpoint_dir={} --output_directory={}\".format(TFLITE_SCRIPT ,files['PIPELINE_CONFIG'], paths['CHECKPOINT_PATH'], paths['TFLITE_PATH'])"
   ]
  },
  {
   "cell_type": "code",
   "execution_count": null,
   "metadata": {
    "colab": {
     "base_uri": "https://localhost:8080/"
    },
    "id": "n1r5YO3rpfDL",
    "outputId": "5fcdf7a4-eee2-4365-f1ca-1751968379ea"
   },
   "outputs": [],
   "source": [
    "print(command)"
   ]
  },
  {
   "cell_type": "code",
   "execution_count": null,
   "metadata": {
    "colab": {
     "base_uri": "https://localhost:8080/"
    },
    "id": "I-xWpHN8pfDL",
    "outputId": "7f6bacd8-d077-43b5-c131-5b081fba24a4"
   },
   "outputs": [],
   "source": [
    "!{command}"
   ]
  },
  {
   "cell_type": "code",
   "execution_count": null,
   "metadata": {
    "id": "iJfYMbN6pfDL"
   },
   "outputs": [],
   "source": [
    "FROZEN_TFLITE_PATH = os.path.join(paths['TFLITE_PATH'], 'saved_model')\n",
    "TFLITE_MODEL = os.path.join(paths['TFLITE_PATH'], 'saved_model', 'detect.tflite')"
   ]
  },
  {
   "cell_type": "code",
   "execution_count": null,
   "metadata": {},
   "outputs": [],
   "source": [
    "command = \"tflite_convert \\\n",
    "--saved_model_dir={} \\\n",
    "--output_file={} \\\n",
    "--input_shapes=1,300,300,3 \\\n",
    "--input_arrays=normalized_input_image_tensor \\\n",
    "--output_arrays='TFLite_Detection_PostProcess','TFLite_Detection_PostProcess:1','TFLite_Detection_PostProcess:2','TFLite_Detection_PostProcess:3' \\\n",
    "--inference_type=FLOAT \\\n",
    "--allow_custom_ops\".format(FROZEN_TFLITE_PATH, TFLITE_MODEL, )"
   ]
  },
  {
   "cell_type": "code",
   "execution_count": null,
   "metadata": {
    "colab": {
     "base_uri": "https://localhost:8080/"
    },
    "id": "E8GwUeoFpfDL",
    "outputId": "fac43ea4-cc85-471b-a362-e994b06fd583"
   },
   "outputs": [],
   "source": [
    "print(command)"
   ]
  },
  {
   "cell_type": "code",
   "execution_count": null,
   "metadata": {
    "colab": {
     "base_uri": "https://localhost:8080/"
    },
    "id": "Nbd7gqHMpfDL",
    "outputId": "7c8fe6d5-2415-4641-8548-39d425c202f7"
   },
   "outputs": [],
   "source": [
    "!{command}"
   ]
  },
  {
   "cell_type": "markdown",
   "metadata": {
    "id": "5NQqZRdA21Uc"
   },
   "source": [
    "# 13. Zip and Export Models "
   ]
  },
  {
   "cell_type": "code",
   "execution_count": null,
   "metadata": {
    "id": "tTVTGCQp2ZJJ"
   },
   "outputs": [],
   "source": [
    "!tar -czf models.tar.gz {paths['CHECKPOINT_PATH']}"
   ]
  },
  {
   "cell_type": "code",
   "execution_count": null,
   "metadata": {
    "colab": {
     "base_uri": "https://localhost:8080/"
    },
    "id": "whShhB0x3PYJ",
    "outputId": "b773201d-35c9-46a8-b893-4a76bd4d5d97"
   },
   "outputs": [],
   "source": [
    "from google.colab import drive\n",
    "drive.mount('/content/drive')"
   ]
  }
 ],
 "metadata": {
  "accelerator": "GPU",
  "colab": {
   "name": "3. Training and Detection.ipynb",
   "provenance": []
  },
  "kernelspec": {
   "display_name": "tfod",
   "language": "python",
   "name": "tfod"
  },
  "language_info": {
   "codemirror_mode": {
    "name": "ipython",
    "version": 3
   },
   "file_extension": ".py",
   "mimetype": "text/x-python",
   "name": "python",
   "nbconvert_exporter": "python",
   "pygments_lexer": "ipython3",
   "version": "3.9.12"
  }
 },
 "nbformat": 4,
 "nbformat_minor": 1
}
